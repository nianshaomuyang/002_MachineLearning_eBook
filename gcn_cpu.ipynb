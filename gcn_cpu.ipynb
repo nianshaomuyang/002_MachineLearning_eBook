{
  "nbformat": 4,
  "nbformat_minor": 0,
  "metadata": {
    "colab": {
      "provenance": [],
      "gpuType": "T4",
      "mount_file_id": "1Ou2wdQajn3P1HAgIBFJpNpPhgX5umcuX",
      "authorship_tag": "ABX9TyPqN3KM96uimbEKsxVoK5KJ",
      "include_colab_link": true
    },
    "kernelspec": {
      "name": "python3",
      "display_name": "Python 3"
    },
    "language_info": {
      "name": "python"
    },
    "accelerator": "GPU"
  },
  "cells": [
    {
      "cell_type": "markdown",
      "metadata": {
        "id": "view-in-github",
        "colab_type": "text"
      },
      "source": [
        "<a href=\"https://colab.research.google.com/github/nianshaomuyang/002_MachineLearning_eBook/blob/master/gcn_cpu.ipynb\" target=\"_parent\"><img src=\"https://colab.research.google.com/assets/colab-badge.svg\" alt=\"Open In Colab\"/></a>"
      ]
    },
    {
      "cell_type": "code",
      "execution_count": null,
      "metadata": {
        "id": "Vi-2_YPEUI9e",
        "colab": {
          "base_uri": "https://localhost:8080/"
        },
        "outputId": "3e9ec741-9eca-42c2-e59e-64ff316355f4"
      },
      "outputs": [
        {
          "output_type": "stream",
          "name": "stdout",
          "text": [
            "Drive already mounted at /content/drive/; to attempt to forcibly remount, call drive.mount(\"/content/drive/\", force_remount=True).\n"
          ]
        }
      ],
      "source": [
        "from google.colab import drive\n",
        "import os\n",
        "# 挂载网盘\n",
        "drive.mount('/content/drive/')"
      ]
    },
    {
      "cell_type": "code",
      "source": [
        "import os\n",
        "# 切换路径\n",
        "os.chdir('/content/drive/MyDrive/Colab Notebooks/gcn')"
      ],
      "metadata": {
        "id": "XZVquh6bWI4S"
      },
      "execution_count": null,
      "outputs": []
    },
    {
      "cell_type": "code",
      "source": [
        "!sudo apt install python3.5\n",
        "!update-alternatives --install /usr/local/bin/python3 python3 /usr/bin/python3.5 2\n",
        "!update-alternatives --install /usr/local/bin/python3 python3 /usr/bin/python3.10 1\n",
        "!python --version\n"
      ],
      "metadata": {
        "colab": {
          "base_uri": "https://localhost:8080/"
        },
        "id": "5I7sIR4kZPWB",
        "outputId": "09b6b09d-18eb-44b3-94c6-1413a69dfe09"
      },
      "execution_count": null,
      "outputs": [
        {
          "output_type": "stream",
          "name": "stdout",
          "text": [
            "Reading package lists... Done\n",
            "Building dependency tree       \n",
            "Reading state information... Done\n",
            "The following additional packages will be installed:\n",
            "  libpython3.5-minimal libpython3.5-stdlib python3.5-minimal\n",
            "Suggested packages:\n",
            "  python3.5-venv binfmt-support\n",
            "The following NEW packages will be installed:\n",
            "  libpython3.5-minimal libpython3.5-stdlib python3.5 python3.5-minimal\n",
            "0 upgraded, 4 newly installed, 0 to remove and 15 not upgraded.\n",
            "Need to get 4,127 kB of archives.\n",
            "After this operation, 22.9 MB of additional disk space will be used.\n",
            "Get:1 http://ppa.launchpad.net/deadsnakes/ppa/ubuntu focal/main amd64 libpython3.5-minimal amd64 3.5.10-1+focal3 [542 kB]\n",
            "Get:2 http://ppa.launchpad.net/deadsnakes/ppa/ubuntu focal/main amd64 python3.5-minimal amd64 3.5.10-1+focal3 [1,258 kB]\n",
            "Get:3 http://ppa.launchpad.net/deadsnakes/ppa/ubuntu focal/main amd64 libpython3.5-stdlib amd64 3.5.10-1+focal3 [2,114 kB]\n",
            "Get:4 http://ppa.launchpad.net/deadsnakes/ppa/ubuntu focal/main amd64 python3.5 amd64 3.5.10-1+focal3 [213 kB]\n",
            "Fetched 4,127 kB in 0s (12.8 MB/s)\n",
            "debconf: unable to initialize frontend: Dialog\n",
            "debconf: (No usable dialog-like program is installed, so the dialog based frontend cannot be used. at /usr/share/perl5/Debconf/FrontEnd/Dialog.pm line 76, <> line 4.)\n",
            "debconf: falling back to frontend: Readline\n",
            "debconf: unable to initialize frontend: Readline\n",
            "debconf: (This frontend requires a controlling tty.)\n",
            "debconf: falling back to frontend: Teletype\n",
            "dpkg-preconfigure: unable to re-open stdin: \n",
            "Selecting previously unselected package libpython3.5-minimal:amd64.\n",
            "(Reading database ... 123069 files and directories currently installed.)\n",
            "Preparing to unpack .../libpython3.5-minimal_3.5.10-1+focal3_amd64.deb ...\n",
            "Unpacking libpython3.5-minimal:amd64 (3.5.10-1+focal3) ...\n",
            "Selecting previously unselected package python3.5-minimal.\n",
            "Preparing to unpack .../python3.5-minimal_3.5.10-1+focal3_amd64.deb ...\n",
            "Unpacking python3.5-minimal (3.5.10-1+focal3) ...\n",
            "Selecting previously unselected package libpython3.5-stdlib:amd64.\n",
            "Preparing to unpack .../libpython3.5-stdlib_3.5.10-1+focal3_amd64.deb ...\n",
            "Unpacking libpython3.5-stdlib:amd64 (3.5.10-1+focal3) ...\n",
            "Selecting previously unselected package python3.5.\n",
            "Preparing to unpack .../python3.5_3.5.10-1+focal3_amd64.deb ...\n",
            "Unpacking python3.5 (3.5.10-1+focal3) ...\n",
            "Setting up libpython3.5-minimal:amd64 (3.5.10-1+focal3) ...\n",
            "Setting up libpython3.5-stdlib:amd64 (3.5.10-1+focal3) ...\n",
            "Setting up python3.5-minimal (3.5.10-1+focal3) ...\n",
            "Setting up python3.5 (3.5.10-1+focal3) ...\n",
            "Processing triggers for mime-support (3.64ubuntu1) ...\n",
            "Processing triggers for man-db (2.9.1-1) ...\n",
            "update-alternatives: renaming python3 link from /usr/bin/python3 to /usr/local/bin/python3\n",
            "update-alternatives: using /usr/bin/python3.5 to provide /usr/local/bin/python3 (python3) in auto mode\n",
            "Python 3.5.10\n"
          ]
        }
      ]
    },
    {
      "cell_type": "code",
      "source": [
        "!python --version\n"
      ],
      "metadata": {
        "colab": {
          "base_uri": "https://localhost:8080/"
        },
        "id": "4qnT6QkBZkIq",
        "outputId": "516091b7-7f69-42cb-962c-5b73dedb89a3"
      },
      "execution_count": null,
      "outputs": [
        {
          "output_type": "stream",
          "name": "stdout",
          "text": [
            "Python 3.5.10\n"
          ]
        }
      ]
    },
    {
      "cell_type": "code",
      "source": [
        "!apt-get install python3-pip"
      ],
      "metadata": {
        "colab": {
          "base_uri": "https://localhost:8080/"
        },
        "id": "72vd-oqTZXbR",
        "outputId": "53f19cfd-3cba-41a4-ca0f-633bc04da59b"
      },
      "execution_count": null,
      "outputs": [
        {
          "output_type": "stream",
          "name": "stdout",
          "text": [
            "Reading package lists... Done\n",
            "Building dependency tree       \n",
            "Reading state information... Done\n",
            "The following additional packages will be installed:\n",
            "  python-pip-whl python3-setuptools python3-wheel\n",
            "Suggested packages:\n",
            "  python-setuptools-doc\n",
            "The following NEW packages will be installed:\n",
            "  python-pip-whl python3-pip python3-setuptools python3-wheel\n",
            "0 upgraded, 4 newly installed, 0 to remove and 15 not upgraded.\n",
            "Need to get 2,389 kB of archives.\n",
            "After this operation, 4,933 kB of additional disk space will be used.\n",
            "Get:1 http://archive.ubuntu.com/ubuntu focal-updates/universe amd64 python-pip-whl all 20.0.2-5ubuntu1.9 [1,805 kB]\n",
            "Get:2 http://archive.ubuntu.com/ubuntu focal-updates/main amd64 python3-setuptools all 45.2.0-1ubuntu0.1 [330 kB]\n",
            "Get:3 http://archive.ubuntu.com/ubuntu focal-updates/universe amd64 python3-wheel all 0.34.2-1ubuntu0.1 [23.9 kB]\n",
            "Get:4 http://archive.ubuntu.com/ubuntu focal-updates/universe amd64 python3-pip all 20.0.2-5ubuntu1.9 [231 kB]\n",
            "Fetched 2,389 kB in 1s (2,679 kB/s)\n",
            "Selecting previously unselected package python-pip-whl.\n",
            "(Reading database ... 123905 files and directories currently installed.)\n",
            "Preparing to unpack .../python-pip-whl_20.0.2-5ubuntu1.9_all.deb ...\n",
            "Unpacking python-pip-whl (20.0.2-5ubuntu1.9) ...\n",
            "Selecting previously unselected package python3-setuptools.\n",
            "Preparing to unpack .../python3-setuptools_45.2.0-1ubuntu0.1_all.deb ...\n",
            "Unpacking python3-setuptools (45.2.0-1ubuntu0.1) ...\n",
            "Selecting previously unselected package python3-wheel.\n",
            "Preparing to unpack .../python3-wheel_0.34.2-1ubuntu0.1_all.deb ...\n",
            "Unpacking python3-wheel (0.34.2-1ubuntu0.1) ...\n",
            "Selecting previously unselected package python3-pip.\n",
            "Preparing to unpack .../python3-pip_20.0.2-5ubuntu1.9_all.deb ...\n",
            "Unpacking python3-pip (20.0.2-5ubuntu1.9) ...\n",
            "Setting up python3-setuptools (45.2.0-1ubuntu0.1) ...\n",
            "/var/lib/dpkg/info/python3-setuptools.postinst: 6: py3compile: not found\n",
            "dpkg: error processing package python3-setuptools (--configure):\n",
            " installed python3-setuptools package post-installation script subprocess returned error exit status 127\n",
            "Setting up python3-wheel (0.34.2-1ubuntu0.1) ...\n",
            "/var/lib/dpkg/info/python3-wheel.postinst: 6: py3compile: not found\n",
            "dpkg: error processing package python3-wheel (--configure):\n",
            " installed python3-wheel package post-installation script subprocess returned error exit status 127\n",
            "dpkg: dependency problems prevent configuration of python3-pip:\n",
            " python3-pip depends on python3-setuptools; however:\n",
            "  Package python3-setuptools is not configured yet.\n",
            " python3-pip depends on python3-wheel; however:\n",
            "  Package python3-wheel is not configured yet.\n",
            "\n",
            "dpkg: error processing package python3-pip (--configure):\n",
            " dependency problems - leaving unconfigured\n",
            "Setting up python-pip-whl (20.0.2-5ubuntu1.9) ...\n",
            "Processing triggers for man-db (2.9.1-1) ...\n",
            "Errors were encountered while processing:\n",
            " python3-setuptools\n",
            " python3-wheel\n",
            " python3-pip\n",
            "E: Sub-process /usr/bin/dpkg returned an error code (1)\n"
          ]
        }
      ]
    },
    {
      "cell_type": "code",
      "source": [
        "!python3.5 -m pip install numpy"
      ],
      "metadata": {
        "colab": {
          "base_uri": "https://localhost:8080/"
        },
        "id": "UHgrGN3RZZep",
        "outputId": "9b2480f9-e779-4025-e5f6-0033158e08c9"
      },
      "execution_count": null,
      "outputs": [
        {
          "output_type": "stream",
          "name": "stdout",
          "text": [
            "Looking in indexes: https://pypi.org/simple, https://us-python.pkg.dev/colab-wheels/public/simple/\n",
            "Collecting numpy\n",
            "  Downloading numpy-1.18.5-cp35-cp35m-manylinux1_x86_64.whl (19.9 MB)\n",
            "\u001b[K     |████████████████████████████████| 19.9 MB 40.0 MB/s \n",
            "\u001b[?25hInstalling collected packages: numpy\n",
            "Successfully installed numpy-1.18.5\n"
          ]
        }
      ]
    },
    {
      "cell_type": "code",
      "source": [
        "!python3.5 -m pip install tqdm"
      ],
      "metadata": {
        "colab": {
          "base_uri": "https://localhost:8080/"
        },
        "id": "ybdktf2J5xK3",
        "outputId": "21190652-664c-4197-baa2-e41f7ec47d93"
      },
      "execution_count": null,
      "outputs": [
        {
          "output_type": "stream",
          "name": "stdout",
          "text": [
            "Looking in indexes: https://pypi.org/simple, https://us-python.pkg.dev/colab-wheels/public/simple/\n",
            "Collecting tqdm\n",
            "  Downloading tqdm-4.64.1-py2.py3-none-any.whl (78 kB)\n",
            "\u001b[K     |████████████████████████████████| 78 kB 4.8 MB/s \n",
            "\u001b[?25hCollecting importlib-resources; python_version < \"3.7\"\n",
            "  Downloading importlib_resources-3.2.1-py2.py3-none-any.whl (26 kB)\n",
            "Collecting zipp>=0.4; python_version < \"3.8\"\n",
            "  Downloading zipp-1.2.0-py2.py3-none-any.whl (4.8 kB)\n",
            "Installing collected packages: zipp, importlib-resources, tqdm\n",
            "Successfully installed importlib-resources-3.2.1 tqdm-4.64.1 zipp-1.2.0\n"
          ]
        }
      ]
    },
    {
      "cell_type": "code",
      "source": [
        "!python3.5 -m pip install opencv-python"
      ],
      "metadata": {
        "colab": {
          "base_uri": "https://localhost:8080/"
        },
        "id": "jmlM2WSw56Xu",
        "outputId": "6e152e0b-34dc-4fbb-e86a-0fb64c639cec"
      },
      "execution_count": null,
      "outputs": [
        {
          "output_type": "stream",
          "name": "stdout",
          "text": [
            "Looking in indexes: https://pypi.org/simple, https://us-python.pkg.dev/colab-wheels/public/simple/\n",
            "Collecting opencv-python\n",
            "  Downloading opencv_python-4.4.0.42-cp35-cp35m-manylinux2014_x86_64.whl (49.4 MB)\n",
            "\u001b[K     |████████████████████████████████| 49.4 MB 277 kB/s \n",
            "\u001b[?25hRequirement already satisfied: numpy>=1.13.1 in /usr/local/lib/python3.5/dist-packages (from opencv-python) (1.18.5)\n",
            "Installing collected packages: opencv-python\n",
            "Successfully installed opencv-python-4.4.0.42\n"
          ]
        }
      ]
    },
    {
      "cell_type": "code",
      "source": [
        "!python3.5 -m pip install h5py"
      ],
      "metadata": {
        "colab": {
          "base_uri": "https://localhost:8080/"
        },
        "id": "bYgP5rEI5-wZ",
        "outputId": "cfebc607-c0e5-4841-d3f8-26f04e74b924"
      },
      "execution_count": null,
      "outputs": [
        {
          "output_type": "stream",
          "name": "stdout",
          "text": [
            "Looking in indexes: https://pypi.org/simple, https://us-python.pkg.dev/colab-wheels/public/simple/\n",
            "Collecting h5py\n",
            "  Downloading h5py-2.10.0-cp35-cp35m-manylinux1_x86_64.whl (2.8 MB)\n",
            "\u001b[K     |████████████████████████████████| 2.8 MB 13.3 MB/s \n",
            "\u001b[?25hCollecting six\n",
            "  Downloading six-1.16.0-py2.py3-none-any.whl (11 kB)\n",
            "Requirement already satisfied: numpy>=1.7 in /usr/local/lib/python3.5/dist-packages (from h5py) (1.18.5)\n",
            "Installing collected packages: six, h5py\n",
            "Successfully installed h5py-2.10.0 six-1.16.0\n"
          ]
        }
      ]
    },
    {
      "cell_type": "code",
      "source": [
        "!python3.5 -m pip uninstall tensorflow\n",
        "!python3.5 -m pip install tensorflow==1.4"
      ],
      "metadata": {
        "colab": {
          "base_uri": "https://localhost:8080/"
        },
        "id": "QoHcveAeDMnS",
        "outputId": "f6ff755a-1e28-4026-821f-cda2fdbe1a2d"
      },
      "execution_count": null,
      "outputs": [
        {
          "output_type": "stream",
          "name": "stdout",
          "text": [
            "\u001b[33mWARNING: Skipping tensorflow as it is not installed.\u001b[0m\n",
            "Looking in indexes: https://pypi.org/simple, https://us-python.pkg.dev/colab-wheels/public/simple/\n",
            "Collecting tensorflow-gpu==1.4\n",
            "  Downloading tensorflow_gpu-1.4.0-cp35-cp35m-manylinux1_x86_64.whl (170.1 MB)\n",
            "\u001b[K     |████████████████████████████████| 170.1 MB 687 bytes/s \n",
            "\u001b[?25hRequirement already satisfied: protobuf>=3.3.0 in /usr/local/lib/python3.5/dist-packages (from tensorflow-gpu==1.4) (3.19.6)\n",
            "Collecting tensorflow-tensorboard<0.5.0,>=0.4.0rc1\n",
            "  Downloading tensorflow_tensorboard-0.4.0-py3-none-any.whl (1.7 MB)\n",
            "\u001b[K     |████████████████████████████████| 1.7 MB 49.2 MB/s \n",
            "\u001b[?25hRequirement already satisfied: numpy>=1.12.1 in /usr/local/lib/python3.5/dist-packages (from tensorflow-gpu==1.4) (1.18.5)\n",
            "Requirement already satisfied: six>=1.10.0 in /usr/local/lib/python3.5/dist-packages (from tensorflow-gpu==1.4) (1.16.0)\n",
            "Collecting enum34>=1.1.6\n",
            "  Downloading enum34-1.1.10-py3-none-any.whl (11 kB)\n",
            "Requirement already satisfied: wheel>=0.26 in /usr/lib/python3/dist-packages (from tensorflow-gpu==1.4) (0.34.2)\n",
            "Collecting markdown>=2.6.8\n",
            "  Using cached Markdown-3.2.2-py3-none-any.whl (88 kB)\n",
            "Collecting html5lib==0.9999999\n",
            "  Downloading html5lib-0.9999999.tar.gz (889 kB)\n",
            "\u001b[K     |████████████████████████████████| 889 kB 59.2 MB/s \n",
            "\u001b[?25hCollecting bleach==1.5.0\n",
            "  Downloading bleach-1.5.0-py2.py3-none-any.whl (17 kB)\n",
            "Collecting werkzeug>=0.11.10\n",
            "  Using cached Werkzeug-1.0.1-py2.py3-none-any.whl (298 kB)\n",
            "Collecting importlib-metadata; python_version < \"3.8\"\n",
            "  Using cached importlib_metadata-2.1.3-py2.py3-none-any.whl (10 kB)\n",
            "Requirement already satisfied: zipp>=0.5 in /usr/local/lib/python3.5/dist-packages (from importlib-metadata; python_version < \"3.8\"->markdown>=2.6.8->tensorflow-tensorboard<0.5.0,>=0.4.0rc1->tensorflow-gpu==1.4) (1.2.0)\n",
            "Building wheels for collected packages: html5lib\n",
            "  Building wheel for html5lib (setup.py) ... \u001b[?25l\u001b[?25hdone\n",
            "  Created wheel for html5lib: filename=html5lib-0.9999999-py3-none-any.whl size=107220 sha256=a28934130394e71ca8606408151eb1c569d25740c63a7567911047d53d2f1cb2\n",
            "  Stored in directory: /root/.cache/pip/wheels/5c/93/0e/45057f13b26ba880ba315b4b580d52ca76151fa88aa5db6db8\n",
            "Successfully built html5lib\n",
            "Installing collected packages: importlib-metadata, markdown, html5lib, bleach, werkzeug, tensorflow-tensorboard, enum34, tensorflow-gpu\n",
            "Successfully installed bleach-1.5.0 enum34-1.1.10 html5lib-0.9999999 importlib-metadata-2.1.3 markdown-3.2.2 tensorflow-gpu-1.4.0 tensorflow-tensorboard-0.4.0 werkzeug-1.0.1\n",
            "Looking in indexes: https://pypi.org/simple, https://us-python.pkg.dev/colab-wheels/public/simple/\n",
            "Collecting tensorflow==1.4\n",
            "  Downloading tensorflow-1.4.0-cp35-cp35m-manylinux1_x86_64.whl (40.7 MB)\n",
            "\u001b[K     |████████████████████████████████| 40.7 MB 1.2 MB/s \n",
            "\u001b[?25hRequirement already satisfied: enum34>=1.1.6 in /usr/local/lib/python3.5/dist-packages (from tensorflow==1.4) (1.1.10)\n",
            "Requirement already satisfied: numpy>=1.12.1 in /usr/local/lib/python3.5/dist-packages (from tensorflow==1.4) (1.18.5)\n",
            "Requirement already satisfied: protobuf>=3.3.0 in /usr/local/lib/python3.5/dist-packages (from tensorflow==1.4) (3.19.6)\n",
            "Requirement already satisfied: wheel>=0.26 in /usr/lib/python3/dist-packages (from tensorflow==1.4) (0.34.2)\n",
            "Requirement already satisfied: six>=1.10.0 in /usr/local/lib/python3.5/dist-packages (from tensorflow==1.4) (1.16.0)\n",
            "Requirement already satisfied: tensorflow-tensorboard<0.5.0,>=0.4.0rc1 in /usr/local/lib/python3.5/dist-packages (from tensorflow==1.4) (0.4.0)\n",
            "Requirement already satisfied: html5lib==0.9999999 in /usr/local/lib/python3.5/dist-packages (from tensorflow-tensorboard<0.5.0,>=0.4.0rc1->tensorflow==1.4) (0.9999999)\n",
            "Requirement already satisfied: werkzeug>=0.11.10 in /usr/local/lib/python3.5/dist-packages (from tensorflow-tensorboard<0.5.0,>=0.4.0rc1->tensorflow==1.4) (1.0.1)\n",
            "Requirement already satisfied: markdown>=2.6.8 in /usr/local/lib/python3.5/dist-packages (from tensorflow-tensorboard<0.5.0,>=0.4.0rc1->tensorflow==1.4) (3.2.2)\n",
            "Requirement already satisfied: bleach==1.5.0 in /usr/local/lib/python3.5/dist-packages (from tensorflow-tensorboard<0.5.0,>=0.4.0rc1->tensorflow==1.4) (1.5.0)\n",
            "Requirement already satisfied: importlib-metadata; python_version < \"3.8\" in /usr/local/lib/python3.5/dist-packages (from markdown>=2.6.8->tensorflow-tensorboard<0.5.0,>=0.4.0rc1->tensorflow==1.4) (2.1.3)\n",
            "Requirement already satisfied: zipp>=0.5 in /usr/local/lib/python3.5/dist-packages (from importlib-metadata; python_version < \"3.8\"->markdown>=2.6.8->tensorflow-tensorboard<0.5.0,>=0.4.0rc1->tensorflow==1.4) (1.2.0)\n",
            "Installing collected packages: tensorflow\n",
            "Successfully installed tensorflow-1.4.0\n"
          ]
        }
      ]
    },
    {
      "cell_type": "code",
      "source": [
        "import tensorflow as tf\n",
        "print(tf.__version__)"
      ],
      "metadata": {
        "colab": {
          "base_uri": "https://localhost:8080/"
        },
        "id": "DB1nLb1z8L67",
        "outputId": "2fc0cf39-bbfb-47f1-addd-cac96992817d"
      },
      "execution_count": null,
      "outputs": [
        {
          "output_type": "stream",
          "name": "stdout",
          "text": [
            "2.12.0\n"
          ]
        }
      ]
    },
    {
      "cell_type": "code",
      "source": [
        "!pillow --veresion"
      ],
      "metadata": {
        "colab": {
          "base_uri": "https://localhost:8080/"
        },
        "id": "ZGIMOXdvD-k2",
        "outputId": "a12c2d31-149d-4e7a-86b7-28a529d7d87d"
      },
      "execution_count": null,
      "outputs": [
        {
          "output_type": "stream",
          "name": "stdout",
          "text": [
            "/bin/bash: pillow: command not found\n"
          ]
        }
      ]
    },
    {
      "cell_type": "code",
      "source": [
        "!python3.5 -m pip install --upgrade pip"
      ],
      "metadata": {
        "colab": {
          "base_uri": "https://localhost:8080/"
        },
        "id": "hNJ9GzyFE-2W",
        "outputId": "42c514d2-1fa7-4e0e-f406-5609064f63bd"
      },
      "execution_count": null,
      "outputs": [
        {
          "output_type": "stream",
          "name": "stdout",
          "text": [
            "Looking in indexes: https://pypi.org/simple, https://us-python.pkg.dev/colab-wheels/public/simple/\n",
            "Collecting pip\n",
            "  Downloading pip-20.3.4-py2.py3-none-any.whl (1.5 MB)\n",
            "\u001b[K     |████████████████████████████████| 1.5 MB 17.2 MB/s \n",
            "\u001b[?25hInstalling collected packages: pip\n",
            "  Attempting uninstall: pip\n",
            "    Found existing installation: pip 20.0.2\n",
            "    Not uninstalling pip at /usr/lib/python3/dist-packages, outside environment /usr\n",
            "    Can't uninstall 'pip'. No files were found to uninstall.\n",
            "Successfully installed pip-20.3.4\n"
          ]
        }
      ]
    },
    {
      "cell_type": "code",
      "source": [
        "!python3.5 -m pip install imageio"
      ],
      "metadata": {
        "colab": {
          "base_uri": "https://localhost:8080/"
        },
        "id": "EU3k7lvM6SLO",
        "outputId": "4008800b-416f-44a6-9562-1530aff4b6a1"
      },
      "execution_count": null,
      "outputs": [
        {
          "output_type": "stream",
          "name": "stdout",
          "text": [
            "Looking in indexes: https://pypi.org/simple, https://us-python.pkg.dev/colab-wheels/public/simple/\n",
            "Collecting imageio\n",
            "  Downloading imageio-2.15.0-py3-none-any.whl (3.3 MB)\n",
            "\u001b[K     |████████████████████████████████| 3.3 MB 12.9 MB/s \n",
            "\u001b[?25hRequirement already satisfied: numpy in /usr/local/lib/python3.5/dist-packages (from imageio) (1.18.5)\n",
            "  Downloading imageio-2.14.1-py3-none-any.whl (3.3 MB)\n",
            "\u001b[K     |████████████████████████████████| 3.3 MB 60.0 MB/s \n",
            "\u001b[?25h  Downloading imageio-2.14.0-py3-none-any.whl (3.3 MB)\n",
            "\u001b[K     |████████████████████████████████| 3.3 MB 54.4 MB/s \n",
            "\u001b[?25h  Downloading imageio-2.13.5-py3-none-any.whl (3.3 MB)\n",
            "\u001b[K     |████████████████████████████████| 3.3 MB 60.6 MB/s \n",
            "\u001b[?25h  Downloading imageio-2.13.4-py3-none-any.whl (3.3 MB)\n",
            "\u001b[K     |████████████████████████████████| 3.3 MB 32.5 MB/s \n",
            "\u001b[?25h  Downloading imageio-2.13.3-py3-none-any.whl (3.3 MB)\n",
            "\u001b[K     |████████████████████████████████| 3.3 MB 49.8 MB/s \n",
            "\u001b[?25h  Downloading imageio-2.13.2-py3-none-any.whl (3.3 MB)\n",
            "\u001b[K     |████████████████████████████████| 3.3 MB 44.5 MB/s \n",
            "\u001b[?25h  Downloading imageio-2.13.1-py3-none-any.whl (3.3 MB)\n",
            "\u001b[K     |████████████████████████████████| 3.3 MB 62.2 MB/s \n",
            "\u001b[?25h  Downloading imageio-2.13.0-py3-none-any.whl (3.3 MB)\n",
            "\u001b[K     |████████████████████████████████| 3.3 MB 56.5 MB/s \n",
            "\u001b[?25h  Downloading imageio-2.12.0-py3-none-any.whl (3.3 MB)\n",
            "\u001b[K     |████████████████████████████████| 3.3 MB 58.9 MB/s \n",
            "\u001b[?25h  Downloading imageio-2.11.1-py3-none-any.whl (3.3 MB)\n",
            "\u001b[K     |████████████████████████████████| 3.3 MB 55.5 MB/s \n",
            "\u001b[?25h  Downloading imageio-2.11.0-py3-none-any.whl (3.3 MB)\n",
            "\u001b[K     |████████████████████████████████| 3.3 MB 55.4 MB/s \n",
            "\u001b[?25h  Downloading imageio-2.10.5-py3-none-any.whl (3.3 MB)\n",
            "\u001b[K     |████████████████████████████████| 3.3 MB 52.1 MB/s \n",
            "\u001b[?25h  Downloading imageio-2.10.4-py3-none-any.whl (3.3 MB)\n",
            "\u001b[K     |████████████████████████████████| 3.3 MB 47.3 MB/s \n",
            "\u001b[?25h  Downloading imageio-2.10.3-py3-none-any.whl (3.3 MB)\n",
            "\u001b[K     |████████████████████████████████| 3.3 MB 51.6 MB/s \n",
            "\u001b[?25h  Downloading imageio-2.10.2-py3-none-any.whl (3.3 MB)\n",
            "\u001b[K     |████████████████████████████████| 3.3 MB 43.4 MB/s \n",
            "\u001b[?25h  Downloading imageio-2.10.1-py3-none-any.whl (3.3 MB)\n",
            "\u001b[K     |████████████████████████████████| 3.3 MB 46.7 MB/s \n",
            "\u001b[?25h  Downloading imageio-2.9.0-py3-none-any.whl (3.3 MB)\n",
            "\u001b[K     |████████████████████████████████| 3.3 MB 38.4 MB/s \n",
            "\u001b[?25hCollecting pillow\n",
            "  Downloading Pillow-7.2.0-cp35-cp35m-manylinux1_x86_64.whl (2.2 MB)\n",
            "\u001b[K     |████████████████████████████████| 2.2 MB 54.3 MB/s \n",
            "\u001b[?25hInstalling collected packages: pillow, imageio\n",
            "Successfully installed imageio-2.9.0 pillow-7.2.0\n"
          ]
        }
      ]
    },
    {
      "cell_type": "code",
      "source": [
        "!python3.5 -m pip install ipykernel"
      ],
      "metadata": {
        "colab": {
          "base_uri": "https://localhost:8080/"
        },
        "id": "dMBpk0U_DlU9",
        "outputId": "de7cffa3-5ff8-412d-feb5-991d248ba845"
      },
      "execution_count": null,
      "outputs": [
        {
          "output_type": "stream",
          "name": "stdout",
          "text": [
            "Looking in indexes: https://pypi.org/simple, https://us-python.pkg.dev/colab-wheels/public/simple/\n",
            "Collecting ipykernel\n",
            "  Downloading ipykernel-5.5.6-py3-none-any.whl (121 kB)\n",
            "\u001b[K     |████████████████████████████████| 121 kB 14.0 MB/s \n",
            "\u001b[?25hCollecting ipython-genutils\n",
            "  Downloading ipython_genutils-0.2.0-py2.py3-none-any.whl (26 kB)\n",
            "Collecting jupyter-client\n",
            "  Downloading jupyter_client-6.1.12-py3-none-any.whl (112 kB)\n",
            "\u001b[K     |████████████████████████████████| 112 kB 44.0 MB/s \n",
            "\u001b[?25hCollecting traitlets>=4.1.0\n",
            "  Downloading traitlets-4.3.3-py2.py3-none-any.whl (75 kB)\n",
            "\u001b[K     |████████████████████████████████| 75 kB 4.8 MB/s \n",
            "\u001b[?25hCollecting ipython>=5.0.0\n",
            "  Downloading ipython-7.9.0-py3-none-any.whl (775 kB)\n",
            "\u001b[K     |████████████████████████████████| 775 kB 66.6 MB/s \n",
            "\u001b[?25hCollecting tornado>=4.2\n",
            "  Downloading tornado-6.1-cp35-cp35m-manylinux2010_x86_64.whl (427 kB)\n",
            "\u001b[K     |████████████████████████████████| 427 kB 69.8 MB/s \n",
            "\u001b[?25hCollecting pygments\n",
            "  Downloading Pygments-2.11.2-py3-none-any.whl (1.1 MB)\n",
            "\u001b[K     |████████████████████████████████| 1.1 MB 54.2 MB/s \n",
            "\u001b[?25hCollecting pickleshare\n",
            "  Downloading pickleshare-0.7.5-py2.py3-none-any.whl (6.9 kB)\n",
            "Collecting jedi>=0.10\n",
            "  Downloading jedi-0.17.2-py2.py3-none-any.whl (1.4 MB)\n",
            "\u001b[K     |████████████████████████████████| 1.4 MB 59.3 MB/s \n",
            "\u001b[?25hCollecting decorator\n",
            "  Downloading decorator-5.1.1-py3-none-any.whl (9.1 kB)\n",
            "Requirement already satisfied: setuptools>=18.5 in /usr/lib/python3/dist-packages (from ipython>=5.0.0->ipykernel) (45.2.0)\n",
            "Collecting backcall\n",
            "  Downloading backcall-0.2.0-py2.py3-none-any.whl (11 kB)\n",
            "Collecting prompt-toolkit<2.1.0,>=2.0.0\n",
            "  Downloading prompt_toolkit-2.0.10-py3-none-any.whl (340 kB)\n",
            "\u001b[K     |████████████████████████████████| 340 kB 51.2 MB/s \n",
            "\u001b[?25hCollecting pexpect\n",
            "  Downloading pexpect-4.8.0-py2.py3-none-any.whl (59 kB)\n",
            "\u001b[K     |████████████████████████████████| 59 kB 4.5 MB/s \n",
            "\u001b[?25hCollecting parso<0.8.0,>=0.7.0\n",
            "  Downloading parso-0.7.1-py2.py3-none-any.whl (109 kB)\n",
            "\u001b[K     |████████████████████████████████| 109 kB 49.4 MB/s \n",
            "\u001b[?25hRequirement already satisfied: six>=1.9.0 in /usr/local/lib/python3.5/dist-packages (from prompt-toolkit<2.1.0,>=2.0.0->ipython>=5.0.0->ipykernel) (1.16.0)\n",
            "Collecting wcwidth\n",
            "  Downloading wcwidth-0.2.6-py2.py3-none-any.whl (29 kB)\n",
            "Collecting python-dateutil>=2.1\n",
            "  Downloading python_dateutil-2.8.2-py2.py3-none-any.whl (247 kB)\n",
            "\u001b[K     |████████████████████████████████| 247 kB 53.7 MB/s \n",
            "\u001b[?25hCollecting pyzmq>=13\n",
            "  Downloading pyzmq-20.0.0-cp35-cp35m-manylinux1_x86_64.whl (1.1 MB)\n",
            "\u001b[K     |████████████████████████████████| 1.1 MB 50.5 MB/s \n",
            "\u001b[?25hCollecting jupyter-core>=4.6.0\n",
            "  Downloading jupyter_core-4.6.3-py2.py3-none-any.whl (83 kB)\n",
            "\u001b[K     |████████████████████████████████| 83 kB 2.0 MB/s \n",
            "\u001b[?25hCollecting ptyprocess>=0.5\n",
            "  Downloading ptyprocess-0.7.0-py2.py3-none-any.whl (13 kB)\n",
            "Installing collected packages: ipython-genutils, decorator, wcwidth, traitlets, ptyprocess, parso, tornado, pyzmq, python-dateutil, pygments, prompt-toolkit, pickleshare, pexpect, jupyter-core, jedi, backcall, jupyter-client, ipython, ipykernel\n",
            "Successfully installed backcall-0.2.0 decorator-5.1.1 ipykernel-5.5.6 ipython-7.9.0 ipython-genutils-0.2.0 jedi-0.17.2 jupyter-client-6.1.12 jupyter-core-4.6.3 parso-0.7.1 pexpect-4.8.0 pickleshare-0.7.5 prompt-toolkit-2.0.10 ptyprocess-0.7.0 pygments-2.11.2 python-dateutil-2.8.2 pyzmq-20.0.0 tornado-6.1 traitlets-4.3.3 wcwidth-0.2.6\n"
          ]
        }
      ]
    },
    {
      "cell_type": "code",
      "source": [
        "!python3.5 -m pip install scipy"
      ],
      "metadata": {
        "colab": {
          "base_uri": "https://localhost:8080/"
        },
        "id": "pW9MUOrHFPXY",
        "outputId": "390ffe42-a06b-406d-ec7e-aebcd21c78fd"
      },
      "execution_count": null,
      "outputs": [
        {
          "output_type": "stream",
          "name": "stdout",
          "text": [
            "Looking in indexes: https://pypi.org/simple, https://us-python.pkg.dev/colab-wheels/public/simple/\n",
            "Collecting scipy\n",
            "  Downloading scipy-1.4.1-cp35-cp35m-manylinux1_x86_64.whl (26.0 MB)\n",
            "\u001b[K     |████████████████████████████████| 26.0 MB 1.4 MB/s \n",
            "\u001b[?25hRequirement already satisfied: numpy>=1.13.3 in /usr/local/lib/python3.5/dist-packages (from scipy) (1.18.5)\n",
            "Installing collected packages: scipy\n",
            "Successfully installed scipy-1.4.1\n"
          ]
        }
      ]
    },
    {
      "cell_type": "code",
      "source": [
        "!python3.5 -m pip install scikit-learn"
      ],
      "metadata": {
        "colab": {
          "base_uri": "https://localhost:8080/"
        },
        "id": "-2_fSt-RFWRB",
        "outputId": "42a2841c-d909-48bc-d3d1-d52a540eea99"
      },
      "execution_count": null,
      "outputs": [
        {
          "output_type": "stream",
          "name": "stdout",
          "text": [
            "Looking in indexes: https://pypi.org/simple, https://us-python.pkg.dev/colab-wheels/public/simple/\n",
            "Collecting scikit-learn\n",
            "  Downloading scikit_learn-0.22.2.post1-cp35-cp35m-manylinux1_x86_64.whl (7.0 MB)\n",
            "\u001b[K     |████████████████████████████████| 7.0 MB 11.0 MB/s \n",
            "\u001b[?25hRequirement already satisfied: scipy>=0.17.0 in /usr/local/lib/python3.5/dist-packages (from scikit-learn) (1.4.1)\n",
            "Collecting joblib>=0.11\n",
            "  Downloading joblib-0.14.1-py2.py3-none-any.whl (294 kB)\n",
            "\u001b[K     |████████████████████████████████| 294 kB 55.3 MB/s \n",
            "\u001b[?25hRequirement already satisfied: numpy>=1.11.0 in /usr/local/lib/python3.5/dist-packages (from scikit-learn) (1.18.5)\n",
            "Installing collected packages: joblib, scikit-learn\n",
            "Successfully installed joblib-0.14.1 scikit-learn-0.22.2.post1\n"
          ]
        }
      ]
    },
    {
      "cell_type": "code",
      "source": [
        "!python3.5 -m pip install matplotlib"
      ],
      "metadata": {
        "colab": {
          "base_uri": "https://localhost:8080/"
        },
        "id": "n5UxOAqVFo7N",
        "outputId": "a6cc8850-860e-4dd4-fa58-049929141ff1"
      },
      "execution_count": null,
      "outputs": [
        {
          "output_type": "stream",
          "name": "stdout",
          "text": [
            "Looking in indexes: https://pypi.org/simple, https://us-python.pkg.dev/colab-wheels/public/simple/\n",
            "Collecting matplotlib\n",
            "  Downloading matplotlib-3.0.3-cp35-cp35m-manylinux1_x86_64.whl (13.0 MB)\n",
            "\u001b[K     |████████████████████████████████| 13.0 MB 10.3 MB/s \n",
            "\u001b[?25hCollecting pyparsing!=2.0.4,!=2.1.2,!=2.1.6,>=2.0.1\n",
            "  Downloading pyparsing-2.4.7-py2.py3-none-any.whl (67 kB)\n",
            "\u001b[K     |████████████████████████████████| 67 kB 6.8 MB/s \n",
            "\u001b[?25hRequirement already satisfied: python-dateutil>=2.1 in /usr/local/lib/python3.5/dist-packages (from matplotlib) (2.8.2)\n",
            "Requirement already satisfied: numpy>=1.10.0 in /usr/local/lib/python3.5/dist-packages (from matplotlib) (1.18.5)\n",
            "Collecting cycler>=0.10\n",
            "  Downloading cycler-0.10.0-py2.py3-none-any.whl (6.5 kB)\n",
            "Collecting kiwisolver>=1.0.1\n",
            "  Downloading kiwisolver-1.1.0-cp35-cp35m-manylinux1_x86_64.whl (90 kB)\n",
            "\u001b[K     |████████████████████████████████| 90 kB 9.4 MB/s \n",
            "\u001b[?25hRequirement already satisfied: six in /usr/local/lib/python3.5/dist-packages (from cycler>=0.10->matplotlib) (1.16.0)\n",
            "Requirement already satisfied: setuptools in /usr/lib/python3/dist-packages (from kiwisolver>=1.0.1->matplotlib) (45.2.0)\n",
            "Installing collected packages: pyparsing, kiwisolver, cycler, matplotlib\n",
            "Successfully installed cycler-0.10.0 kiwisolver-1.1.0 matplotlib-3.0.3 pyparsing-2.4.7\n"
          ]
        }
      ]
    },
    {
      "cell_type": "code",
      "source": [
        "!pwd\n"
      ],
      "metadata": {
        "colab": {
          "base_uri": "https://localhost:8080/"
        },
        "id": "U9T0VkcnsZDm",
        "outputId": "27b2c2ab-8f2c-4a74-aefc-ddf013540f0b"
      },
      "execution_count": null,
      "outputs": [
        {
          "output_type": "stream",
          "name": "stdout",
          "text": [
            "/content/drive/MyDrive/Colab Notebooks/gcn\n"
          ]
        }
      ]
    },
    {
      "cell_type": "code",
      "source": [
        "import os\n",
        "from PIL import Image\n",
        "\n",
        "with open('CelebA_RGBA.bin', 'wb') as f:\n",
        "    for filename in os.listdir('./data/Img'):\n",
        "        if filename.endswith('.png'):\n",
        "            img = Image.open(os.path.join('./data/Img', filename))\n",
        "            f.write(img.convert('RGB').tobytes())"
      ],
      "metadata": {
        "id": "4fKyzU7ZLmKU"
      },
      "execution_count": null,
      "outputs": []
    },
    {
      "cell_type": "code",
      "source": [
        "!python3.5 -m pip install mesh_io"
      ],
      "metadata": {
        "colab": {
          "base_uri": "https://localhost:8080/"
        },
        "id": "Gw78bw97j0jE",
        "outputId": "9e8eaeaf-f16a-4a7d-89f1-455a75490ffb"
      },
      "execution_count": null,
      "outputs": [
        {
          "output_type": "stream",
          "name": "stdout",
          "text": [
            "Looking in indexes: https://pypi.org/simple, https://us-python.pkg.dev/colab-wheels/public/simple/\n",
            "\u001b[31mERROR: Could not find a version that satisfies the requirement mesh_io\u001b[0m\n",
            "\u001b[31mERROR: No matching distribution found for mesh_io\u001b[0m\n"
          ]
        }
      ]
    },
    {
      "cell_type": "code",
      "source": [
        "!python3.5 create_bin.py"
      ],
      "metadata": {
        "colab": {
          "base_uri": "https://localhost:8080/"
        },
        "id": "waogd6OwXaRK",
        "outputId": "ba37a984-db8d-4a70-a5cc-979ad591f3ec"
      },
      "execution_count": null,
      "outputs": [
        {
          "output_type": "stream",
          "name": "stdout",
          "text": [
            "/usr/local/lib/python3.5/dist-packages/tensorflow/python/framework/dtypes.py:455: FutureWarning: Passing (type, 1) or '1type' as a synonym of type is deprecated; in a future version of numpy, it will be understood as (type, (1,)) / '(1,)type'.\n",
            "  _np_qint8 = np.dtype([(\"qint8\", np.int8, 1)])\n",
            "/usr/local/lib/python3.5/dist-packages/tensorflow/python/framework/dtypes.py:456: FutureWarning: Passing (type, 1) or '1type' as a synonym of type is deprecated; in a future version of numpy, it will be understood as (type, (1,)) / '(1,)type'.\n",
            "  _np_quint8 = np.dtype([(\"quint8\", np.uint8, 1)])\n",
            "/usr/local/lib/python3.5/dist-packages/tensorflow/python/framework/dtypes.py:457: FutureWarning: Passing (type, 1) or '1type' as a synonym of type is deprecated; in a future version of numpy, it will be understood as (type, (1,)) / '(1,)type'.\n",
            "  _np_qint16 = np.dtype([(\"qint16\", np.int16, 1)])\n",
            "/usr/local/lib/python3.5/dist-packages/tensorflow/python/framework/dtypes.py:458: FutureWarning: Passing (type, 1) or '1type' as a synonym of type is deprecated; in a future version of numpy, it will be understood as (type, (1,)) / '(1,)type'.\n",
            "  _np_quint16 = np.dtype([(\"quint16\", np.uint16, 1)])\n",
            "/usr/local/lib/python3.5/dist-packages/tensorflow/python/framework/dtypes.py:459: FutureWarning: Passing (type, 1) or '1type' as a synonym of type is deprecated; in a future version of numpy, it will be understood as (type, (1,)) / '(1,)type'.\n",
            "  _np_qint32 = np.dtype([(\"qint32\", np.int32, 1)])\n",
            "/usr/local/lib/python3.5/dist-packages/tensorflow/python/framework/dtypes.py:462: FutureWarning: Passing (type, 1) or '1type' as a synonym of type is deprecated; in a future version of numpy, it will be understood as (type, (1,)) / '(1,)type'.\n",
            "  np_resource = np.dtype([(\"resource\", np.ubyte, 1)])\n",
            "['./data/Img/000007.png', './data/Img/000030.png', './data/Img/000016.png', './data/Img/000006.png', './data/Img/000034.png']\n",
            "['./data/Img/000007.png', './data/Img/000034.png', './data/Img/000016.png', './data/Img/000030.png', './data/Img/000006.png']\n",
            "['./data/Img/000007.png', './data/Img/000034.png', './data/Img/000016.png', './data/Img/000030.png', './data/Img/000006.png']\n",
            "  0% 0/5 [00:00<?, ?it/s]./data/Img/000007.png\n",
            " 20% 1/5 [00:00<00:01,  3.81it/s]./data/Img/000034.png\n",
            " 40% 2/5 [00:00<00:00,  4.21it/s]./data/Img/000016.png\n",
            " 60% 3/5 [00:00<00:00,  4.39it/s]./data/Img/000030.png\n",
            " 80% 4/5 [00:00<00:00,  4.24it/s]./data/Img/000006.png\n",
            "100% 5/5 [00:01<00:00,  4.36it/s]\n"
          ]
        }
      ]
    },
    {
      "cell_type": "code",
      "source": [
        "!python3.5 -m pip install --upgrade pip"
      ],
      "metadata": {
        "colab": {
          "base_uri": "https://localhost:8080/"
        },
        "id": "uEnXU133uDyR",
        "outputId": "f81a2fba-3c90-4e9a-c9c6-febe30ef9866"
      },
      "execution_count": null,
      "outputs": [
        {
          "output_type": "stream",
          "name": "stdout",
          "text": [
            "Looking in indexes: https://pypi.org/simple, https://us-python.pkg.dev/colab-wheels/public/simple/\n",
            "Collecting pip\n",
            "  Downloading pip-20.3.4-py2.py3-none-any.whl (1.5 MB)\n",
            "\u001b[K     |████████████████████████████████| 1.5 MB 23.7 MB/s \n",
            "\u001b[?25hInstalling collected packages: pip\n",
            "  Attempting uninstall: pip\n",
            "    Found existing installation: pip 20.0.2\n",
            "    Not uninstalling pip at /usr/lib/python3/dist-packages, outside environment /usr\n",
            "    Can't uninstall 'pip'. No files were found to uninstall.\n",
            "Successfully installed pip-20.3.4\n"
          ]
        }
      ]
    },
    {
      "cell_type": "code",
      "source": [
        "import os\n",
        "# 切换路径\n",
        "os.chdir('/content/drive/MyDrive/Colab Notebooks/gcn/mesh_renderer')"
      ],
      "metadata": {
        "id": "PgHxsOznNLI_"
      },
      "execution_count": null,
      "outputs": []
    },
    {
      "cell_type": "code",
      "source": [
        "!python3.5 setup.py build\n",
        "!python3.5 setup.py install"
      ],
      "metadata": {
        "colab": {
          "base_uri": "https://localhost:8080/"
        },
        "id": "3jBDMbkQORyv",
        "outputId": "4623a496-75c9-469d-abf6-5f2fa07cd08f"
      },
      "execution_count": null,
      "outputs": [
        {
          "output_type": "stream",
          "name": "stdout",
          "text": [
            "/usr/lib/python3.5/distutils/dist.py:261: UserWarning: Unknown distribution option: 'install_requires'\n",
            "  warnings.warn(msg)\n",
            "running build\n",
            "running build_py\n",
            "running build_ext\n",
            "/usr/local/lib/python3.5/dist-packages/tensorflow/python/framework/dtypes.py:523: FutureWarning: Passing (type, 1) or '1type' as a synonym of type is deprecated; in a future version of numpy, it will be understood as (type, (1,)) / '(1,)type'.\n",
            "  _np_qint8 = np.dtype([(\"qint8\", np.int8, 1)])\n",
            "/usr/local/lib/python3.5/dist-packages/tensorflow/python/framework/dtypes.py:524: FutureWarning: Passing (type, 1) or '1type' as a synonym of type is deprecated; in a future version of numpy, it will be understood as (type, (1,)) / '(1,)type'.\n",
            "  _np_quint8 = np.dtype([(\"quint8\", np.uint8, 1)])\n",
            "/usr/local/lib/python3.5/dist-packages/tensorflow/python/framework/dtypes.py:525: FutureWarning: Passing (type, 1) or '1type' as a synonym of type is deprecated; in a future version of numpy, it will be understood as (type, (1,)) / '(1,)type'.\n",
            "  _np_qint16 = np.dtype([(\"qint16\", np.int16, 1)])\n",
            "/usr/local/lib/python3.5/dist-packages/tensorflow/python/framework/dtypes.py:526: FutureWarning: Passing (type, 1) or '1type' as a synonym of type is deprecated; in a future version of numpy, it will be understood as (type, (1,)) / '(1,)type'.\n",
            "  _np_quint16 = np.dtype([(\"quint16\", np.uint16, 1)])\n",
            "/usr/local/lib/python3.5/dist-packages/tensorflow/python/framework/dtypes.py:527: FutureWarning: Passing (type, 1) or '1type' as a synonym of type is deprecated; in a future version of numpy, it will be understood as (type, (1,)) / '(1,)type'.\n",
            "  _np_qint32 = np.dtype([(\"qint32\", np.int32, 1)])\n",
            "/usr/local/lib/python3.5/dist-packages/tensorflow/python/framework/dtypes.py:532: FutureWarning: Passing (type, 1) or '1type' as a synonym of type is deprecated; in a future version of numpy, it will be understood as (type, (1,)) / '(1,)type'.\n",
            "  np_resource = np.dtype([(\"resource\", np.ubyte, 1)])\n",
            "building 'mesh_renderer_lib' extension\n",
            "creating build/temp.linux-x86_64-3.5\n",
            "creating build/temp.linux-x86_64-3.5/mesh_renderer\n",
            "creating build/temp.linux-x86_64-3.5/mesh_renderer/kernels\n",
            "x86_64-linux-gnu-gcc -pthread -DNDEBUG -g -fwrapv -O2 -Wall -g -fdebug-prefix-map=/build/python3.5-d71agB/python3.5-3.5.10=. -fstack-protector-strong -Wformat -Werror=format-security -Wdate-time -D_FORTIFY_SOURCE=2 -fPIC -I/usr/local/include -I/usr/local/lib/python3.5/dist-packages/tensorflow/include -I/usr/local/lib/python3.5/dist-packages/tensorflow/include/external/nsync/public -I/usr/include/python3.5m -c mesh_renderer/kernels/rasterize_triangles_op.cc -o build/temp.linux-x86_64-3.5/mesh_renderer/kernels/rasterize_triangles_op.o -std=c++11 -D_GLIBCXX_USE_CXX11_ABI=0\n",
            "\u001b[01m\u001b[Kmesh_renderer/kernels/rasterize_triangles_op.cc:18:10:\u001b[m\u001b[K \u001b[01;31m\u001b[Kfatal error: \u001b[m\u001b[Krasterize_triangles_impl.h: No such file or directory\n",
            "   18 | #include \u001b[01;31m\u001b[K\"rasterize_triangles_impl.h\"\u001b[m\u001b[K\n",
            "      |          \u001b[01;31m\u001b[K^~~~~~~~~~~~~~~~~~~~~~~~~~~~\u001b[m\u001b[K\n",
            "compilation terminated.\n",
            "error: command 'x86_64-linux-gnu-gcc' failed with exit status 1\n",
            "/usr/lib/python3.5/distutils/dist.py:261: UserWarning: Unknown distribution option: 'install_requires'\n",
            "  warnings.warn(msg)\n",
            "running install\n",
            "running build\n",
            "running build_py\n",
            "running build_ext\n",
            "/usr/local/lib/python3.5/dist-packages/tensorflow/python/framework/dtypes.py:523: FutureWarning: Passing (type, 1) or '1type' as a synonym of type is deprecated; in a future version of numpy, it will be understood as (type, (1,)) / '(1,)type'.\n",
            "  _np_qint8 = np.dtype([(\"qint8\", np.int8, 1)])\n",
            "/usr/local/lib/python3.5/dist-packages/tensorflow/python/framework/dtypes.py:524: FutureWarning: Passing (type, 1) or '1type' as a synonym of type is deprecated; in a future version of numpy, it will be understood as (type, (1,)) / '(1,)type'.\n",
            "  _np_quint8 = np.dtype([(\"quint8\", np.uint8, 1)])\n",
            "/usr/local/lib/python3.5/dist-packages/tensorflow/python/framework/dtypes.py:525: FutureWarning: Passing (type, 1) or '1type' as a synonym of type is deprecated; in a future version of numpy, it will be understood as (type, (1,)) / '(1,)type'.\n",
            "  _np_qint16 = np.dtype([(\"qint16\", np.int16, 1)])\n",
            "/usr/local/lib/python3.5/dist-packages/tensorflow/python/framework/dtypes.py:526: FutureWarning: Passing (type, 1) or '1type' as a synonym of type is deprecated; in a future version of numpy, it will be understood as (type, (1,)) / '(1,)type'.\n",
            "  _np_quint16 = np.dtype([(\"quint16\", np.uint16, 1)])\n",
            "/usr/local/lib/python3.5/dist-packages/tensorflow/python/framework/dtypes.py:527: FutureWarning: Passing (type, 1) or '1type' as a synonym of type is deprecated; in a future version of numpy, it will be understood as (type, (1,)) / '(1,)type'.\n",
            "  _np_qint32 = np.dtype([(\"qint32\", np.int32, 1)])\n",
            "/usr/local/lib/python3.5/dist-packages/tensorflow/python/framework/dtypes.py:532: FutureWarning: Passing (type, 1) or '1type' as a synonym of type is deprecated; in a future version of numpy, it will be understood as (type, (1,)) / '(1,)type'.\n",
            "  np_resource = np.dtype([(\"resource\", np.ubyte, 1)])\n",
            "building 'mesh_renderer_lib' extension\n",
            "x86_64-linux-gnu-gcc -pthread -DNDEBUG -g -fwrapv -O2 -Wall -g -fdebug-prefix-map=/build/python3.5-d71agB/python3.5-3.5.10=. -fstack-protector-strong -Wformat -Werror=format-security -Wdate-time -D_FORTIFY_SOURCE=2 -fPIC -I/usr/local/include -I/usr/local/lib/python3.5/dist-packages/tensorflow/include -I/usr/local/lib/python3.5/dist-packages/tensorflow/include/external/nsync/public -I/usr/include/python3.5m -c mesh_renderer/kernels/rasterize_triangles_op.cc -o build/temp.linux-x86_64-3.5/mesh_renderer/kernels/rasterize_triangles_op.o -std=c++11 -D_GLIBCXX_USE_CXX11_ABI=0\n",
            "\u001b[01m\u001b[Kmesh_renderer/kernels/rasterize_triangles_op.cc:18:10:\u001b[m\u001b[K \u001b[01;31m\u001b[Kfatal error: \u001b[m\u001b[Krasterize_triangles_impl.h: No such file or directory\n",
            "   18 | #include \u001b[01;31m\u001b[K\"rasterize_triangles_impl.h\"\u001b[m\u001b[K\n",
            "      |          \u001b[01;31m\u001b[K^~~~~~~~~~~~~~~~~~~~~~~~~~~~\u001b[m\u001b[K\n",
            "compilation terminated.\n",
            "error: command 'x86_64-linux-gnu-gcc' failed with exit status 1\n"
          ]
        }
      ]
    },
    {
      "cell_type": "code",
      "source": [
        "!python3.5 -m pip install  mesh_renderer"
      ],
      "metadata": {
        "colab": {
          "base_uri": "https://localhost:8080/"
        },
        "id": "g2ju5IqrthtC",
        "outputId": "74b5c351-2634-4302-86fc-122d8788782b"
      },
      "execution_count": null,
      "outputs": [
        {
          "output_type": "stream",
          "name": "stdout",
          "text": [
            "Looking in indexes: https://pypi.org/simple, https://us-python.pkg.dev/colab-wheels/public/simple/\n",
            "Collecting mesh_renderer\n",
            "  Downloading mesh_renderer-1.4.tar.gz (21 kB)\n",
            "Building wheels for collected packages: mesh-renderer\n",
            "  Building wheel for mesh-renderer (setup.py) ... \u001b[?25l\u001b[?25hdone\n",
            "  Created wheel for mesh-renderer: filename=mesh_renderer-1.4-cp35-cp35m-linux_x86_64.whl size=456497 sha256=653ca141d4c2765e70fc5165a2f9875a510ae1b44427418be6eddc7b070c78a6\n",
            "  Stored in directory: /root/.cache/pip/wheels/7c/c3/40/48f9503dfe1c6db98df693313e1513852904e417fee86c6d4f\n",
            "Successfully built mesh-renderer\n",
            "Installing collected packages: mesh-renderer\n",
            "Successfully installed mesh-renderer-1.4\n"
          ]
        }
      ]
    },
    {
      "cell_type": "code",
      "source": [
        "import numpy as np\n",
        "import scipy.io as sio\n",
        "from lib import mesh_io\n",
        "\n",
        "bfm = sio.loadmat('data/01_MorphableModel.mat')\n",
        "idx = sio.loadmat('data/select_vertex_id.mat')\n",
        "info = sio.loadmat('data/facemodel_info.mat')\n",
        "\n",
        "vertices = bfm['shapeMU'].reshape([-1, 3])[idx['select_id'][:, 0] - 1]\n",
        "vertices -= np.mean(vertices, axis=0, keepdims=True)\n",
        "mesh_io.write_obj('data/bfm09_face_template.obj', vertices / 1e5,\n",
        "                    info['tri'].astype(np.int32) - 1)"
      ],
      "metadata": {
        "id": "HxXMQ3Y2wLOI"
      },
      "execution_count": null,
      "outputs": []
    },
    {
      "cell_type": "code",
      "source": [
        "!python3.5 -m pip uninstall tensorflow\n",
        "!python3.5 -m pip install tensorflow==2.12.0"
      ],
      "metadata": {
        "id": "xgTj3kcmU-CR"
      },
      "execution_count": null,
      "outputs": []
    },
    {
      "cell_type": "code",
      "source": [
        "!python3.5 -m pip install grpcio==1.37.1"
      ],
      "metadata": {
        "colab": {
          "base_uri": "https://localhost:8080/"
        },
        "id": "ioyUk7sceqSt",
        "outputId": "dc0c3695-a0cc-4740-b1eb-0a81e23dbb83"
      },
      "execution_count": null,
      "outputs": [
        {
          "output_type": "stream",
          "name": "stdout",
          "text": [
            "Looking in indexes: https://pypi.org/simple, https://us-python.pkg.dev/colab-wheels/public/simple/\n",
            "Collecting grpcio==1.37.1\n",
            "  Downloading grpcio-1.37.1-cp35-cp35m-manylinux2014_x86_64.whl (4.1 MB)\n",
            "\u001b[K     |████████████████████████████████| 4.1 MB 13.9 MB/s \n",
            "\u001b[?25hRequirement already satisfied: six>=1.5.2 in /usr/local/lib/python3.5/dist-packages (from grpcio==1.37.1) (1.16.0)\n",
            "Installing collected packages: grpcio\n",
            "Successfully installed grpcio-1.37.1\n"
          ]
        }
      ]
    },
    {
      "cell_type": "code",
      "source": [
        "!python3.5 -m pip uninstall tensorflow\n",
        "!python3.5 -m pip install tensorflow==1.12.0\n",
        "# !python3.5 -m pip install tensorflow-gpu==1.4.0"
      ],
      "metadata": {
        "colab": {
          "base_uri": "https://localhost:8080/"
        },
        "id": "U83_6tb-3Pqu",
        "outputId": "70e213ec-5268-41db-8eda-50781aed22d6"
      },
      "execution_count": null,
      "outputs": [
        {
          "output_type": "stream",
          "name": "stdout",
          "text": [
            "\u001b[33mWARNING: Skipping tensorflow as it is not installed.\u001b[0m\n",
            "Looking in indexes: https://pypi.org/simple, https://us-python.pkg.dev/colab-wheels/public/simple/\n",
            "Collecting tensorflow==1.12.0\n",
            "  Downloading tensorflow-1.12.0-cp35-cp35m-manylinux1_x86_64.whl (83.1 MB)\n",
            "\u001b[K     |████████████████████████████████| 83.1 MB 115 kB/s \n",
            "\u001b[?25hCollecting protobuf>=3.6.1\n",
            "  Downloading protobuf-3.19.6-py2.py3-none-any.whl (162 kB)\n",
            "\u001b[K     |████████████████████████████████| 162 kB 60.9 MB/s \n",
            "\u001b[?25hCollecting gast>=0.2.0\n",
            "  Downloading gast-0.5.4-py3-none-any.whl (19 kB)\n",
            "Requirement already satisfied: six>=1.10.0 in /usr/local/lib/python3.5/dist-packages (from tensorflow==1.12.0) (1.16.0)\n",
            "Collecting absl-py>=0.1.6\n",
            "  Downloading absl_py-0.15.0-py3-none-any.whl (132 kB)\n",
            "\u001b[K     |████████████████████████████████| 132 kB 61.5 MB/s \n",
            "\u001b[?25hCollecting tensorboard<1.13.0,>=1.12.0\n",
            "  Downloading tensorboard-1.12.2-py3-none-any.whl (3.0 MB)\n",
            "\u001b[K     |████████████████████████████████| 3.0 MB 61.5 MB/s \n",
            "\u001b[?25hRequirement already satisfied: wheel>=0.26 in /usr/lib/python3/dist-packages (from tensorflow==1.12.0) (0.34.2)\n",
            "Collecting termcolor>=1.1.0\n",
            "  Downloading termcolor-1.1.0.tar.gz (3.9 kB)\n",
            "Collecting keras-preprocessing>=1.0.5\n",
            "  Downloading Keras_Preprocessing-1.1.2-py2.py3-none-any.whl (42 kB)\n",
            "\u001b[K     |████████████████████████████████| 42 kB 1.4 MB/s \n",
            "\u001b[?25hRequirement already satisfied: grpcio>=1.8.6 in /usr/local/lib/python3.5/dist-packages (from tensorflow==1.12.0) (1.37.1)\n",
            "Requirement already satisfied: numpy>=1.13.3 in /usr/local/lib/python3.5/dist-packages (from tensorflow==1.12.0) (1.18.5)\n",
            "Collecting keras-applications>=1.0.6\n",
            "  Downloading Keras_Applications-1.0.8-py3-none-any.whl (50 kB)\n",
            "\u001b[K     |████████████████████████████████| 50 kB 7.0 MB/s \n",
            "\u001b[?25hCollecting astor>=0.6.0\n",
            "  Downloading astor-0.8.1-py2.py3-none-any.whl (27 kB)\n",
            "Requirement already satisfied: h5py in /usr/local/lib/python3.5/dist-packages (from keras-applications>=1.0.6->tensorflow==1.12.0) (2.10.0)\n",
            "Collecting werkzeug>=0.11.10\n",
            "  Downloading Werkzeug-1.0.1-py2.py3-none-any.whl (298 kB)\n",
            "\u001b[K     |████████████████████████████████| 298 kB 64.2 MB/s \n",
            "\u001b[?25hCollecting markdown>=2.6.8\n",
            "  Downloading Markdown-3.2.2-py3-none-any.whl (88 kB)\n",
            "\u001b[K     |████████████████████████████████| 88 kB 8.4 MB/s \n",
            "\u001b[?25hCollecting importlib-metadata\n",
            "  Downloading importlib_metadata-2.1.3-py2.py3-none-any.whl (10 kB)\n",
            "Requirement already satisfied: zipp>=0.5 in /usr/local/lib/python3.5/dist-packages (from importlib-metadata->markdown>=2.6.8->tensorboard<1.13.0,>=1.12.0->tensorflow==1.12.0) (1.2.0)\n",
            "Building wheels for collected packages: termcolor\n",
            "  Building wheel for termcolor (setup.py) ... \u001b[?25l\u001b[?25hdone\n",
            "  Created wheel for termcolor: filename=termcolor-1.1.0-py3-none-any.whl size=4830 sha256=31ef16ac973d2b9a1edbdf8029a194c3a92e9241307b64855bdee99eb4582915\n",
            "  Stored in directory: /root/.cache/pip/wheels/91/0e/11/1f1321dce76e9c542907008e4a94ff79f8bf525a3fa32b09f3\n",
            "Successfully built termcolor\n",
            "Installing collected packages: importlib-metadata, werkzeug, protobuf, markdown, termcolor, tensorboard, keras-preprocessing, keras-applications, gast, astor, absl-py, tensorflow\n",
            "Successfully installed absl-py-0.15.0 astor-0.8.1 gast-0.5.4 importlib-metadata-2.1.3 keras-applications-1.0.8 keras-preprocessing-1.1.2 markdown-3.2.2 protobuf-3.19.6 tensorboard-1.12.2 tensorflow-1.12.0 termcolor-1.1.0 werkzeug-1.0.1\n"
          ]
        }
      ]
    },
    {
      "cell_type": "code",
      "source": [
        "import tensorflow as tf\n",
        "device_name = tf.test.gpu_device_name()\n",
        "if device_name != '/device:GPU:0':\n",
        "  raise SystemError('GPU device not found')\n",
        "print('Found GPU at: {}'.format(device_name))\n",
        "print(tf.__version__)"
      ],
      "metadata": {
        "colab": {
          "base_uri": "https://localhost:8080/",
          "height": 245
        },
        "id": "BGJ5hu_8367e",
        "outputId": "d4f3aba0-458c-466b-b504-32516f7af87b"
      },
      "execution_count": null,
      "outputs": [
        {
          "output_type": "error",
          "ename": "SystemError",
          "evalue": "ignored",
          "traceback": [
            "\u001b[0;31m---------------------------------------------------------------------------\u001b[0m",
            "\u001b[0;31mSystemError\u001b[0m                               Traceback (most recent call last)",
            "\u001b[0;32m<ipython-input-20-9800113aa648>\u001b[0m in \u001b[0;36m<cell line: 3>\u001b[0;34m()\u001b[0m\n\u001b[1;32m      2\u001b[0m \u001b[0mdevice_name\u001b[0m \u001b[0;34m=\u001b[0m \u001b[0mtf\u001b[0m\u001b[0;34m.\u001b[0m\u001b[0mtest\u001b[0m\u001b[0;34m.\u001b[0m\u001b[0mgpu_device_name\u001b[0m\u001b[0;34m(\u001b[0m\u001b[0;34m)\u001b[0m\u001b[0;34m\u001b[0m\u001b[0;34m\u001b[0m\u001b[0m\n\u001b[1;32m      3\u001b[0m \u001b[0;32mif\u001b[0m \u001b[0mdevice_name\u001b[0m \u001b[0;34m!=\u001b[0m \u001b[0;34m'/device:GPU:0'\u001b[0m\u001b[0;34m:\u001b[0m\u001b[0;34m\u001b[0m\u001b[0;34m\u001b[0m\u001b[0m\n\u001b[0;32m----> 4\u001b[0;31m   \u001b[0;32mraise\u001b[0m \u001b[0mSystemError\u001b[0m\u001b[0;34m(\u001b[0m\u001b[0;34m'GPU device not found'\u001b[0m\u001b[0;34m)\u001b[0m\u001b[0;34m\u001b[0m\u001b[0;34m\u001b[0m\u001b[0m\n\u001b[0m\u001b[1;32m      5\u001b[0m \u001b[0mprint\u001b[0m\u001b[0;34m(\u001b[0m\u001b[0;34m'Found GPU at: {}'\u001b[0m\u001b[0;34m.\u001b[0m\u001b[0mformat\u001b[0m\u001b[0;34m(\u001b[0m\u001b[0mdevice_name\u001b[0m\u001b[0;34m)\u001b[0m\u001b[0;34m)\u001b[0m\u001b[0;34m\u001b[0m\u001b[0;34m\u001b[0m\u001b[0m\n\u001b[1;32m      6\u001b[0m \u001b[0mprint\u001b[0m\u001b[0;34m(\u001b[0m\u001b[0mtf\u001b[0m\u001b[0;34m.\u001b[0m\u001b[0m__version__\u001b[0m\u001b[0;34m)\u001b[0m\u001b[0;34m\u001b[0m\u001b[0;34m\u001b[0m\u001b[0m\n",
            "\u001b[0;31mSystemError\u001b[0m: GPU device not found"
          ]
        }
      ]
    },
    {
      "cell_type": "code",
      "source": [
        "!python3.5 -m pip install camera_utils"
      ],
      "metadata": {
        "colab": {
          "base_uri": "https://localhost:8080/"
        },
        "id": "385lUZDIPrcS",
        "outputId": "7ed844f8-b3f8-44f1-a99a-ac0d49cdaafc"
      },
      "execution_count": null,
      "outputs": [
        {
          "output_type": "stream",
          "name": "stdout",
          "text": [
            "Looking in indexes: https://pypi.org/simple, https://us-python.pkg.dev/colab-wheels/public/simple/\n",
            "\u001b[31mERROR: Could not find a version that satisfies the requirement camera_utils\u001b[0m\n",
            "\u001b[31mERROR: No matching distribution found for camera_utils\u001b[0m\n"
          ]
        }
      ]
    },
    {
      "cell_type": "code",
      "source": [
        "!python3.5 main.py --mode train"
      ],
      "metadata": {
        "colab": {
          "base_uri": "https://localhost:8080/"
        },
        "id": "SsR1BxAatdMW",
        "outputId": "12854c78-5356-49b5-8f0e-9380a3e609a6"
      },
      "execution_count": null,
      "outputs": [
        {
          "output_type": "stream",
          "name": "stdout",
          "text": [
            "/usr/local/lib/python3.5/dist-packages/tensorflow/python/framework/dtypes.py:469: FutureWarning: Passing (type, 1) or '1type' as a synonym of type is deprecated; in a future version of numpy, it will be understood as (type, (1,)) / '(1,)type'.\n",
            "  _np_qint8 = np.dtype([(\"qint8\", np.int8, 1)])\n",
            "/usr/local/lib/python3.5/dist-packages/tensorflow/python/framework/dtypes.py:470: FutureWarning: Passing (type, 1) or '1type' as a synonym of type is deprecated; in a future version of numpy, it will be understood as (type, (1,)) / '(1,)type'.\n",
            "  _np_quint8 = np.dtype([(\"quint8\", np.uint8, 1)])\n",
            "/usr/local/lib/python3.5/dist-packages/tensorflow/python/framework/dtypes.py:471: FutureWarning: Passing (type, 1) or '1type' as a synonym of type is deprecated; in a future version of numpy, it will be understood as (type, (1,)) / '(1,)type'.\n",
            "  _np_qint16 = np.dtype([(\"qint16\", np.int16, 1)])\n",
            "/usr/local/lib/python3.5/dist-packages/tensorflow/python/framework/dtypes.py:472: FutureWarning: Passing (type, 1) or '1type' as a synonym of type is deprecated; in a future version of numpy, it will be understood as (type, (1,)) / '(1,)type'.\n",
            "  _np_quint16 = np.dtype([(\"quint16\", np.uint16, 1)])\n",
            "/usr/local/lib/python3.5/dist-packages/tensorflow/python/framework/dtypes.py:473: FutureWarning: Passing (type, 1) or '1type' as a synonym of type is deprecated; in a future version of numpy, it will be understood as (type, (1,)) / '(1,)type'.\n",
            "  _np_qint32 = np.dtype([(\"qint32\", np.int32, 1)])\n",
            "/usr/local/lib/python3.5/dist-packages/tensorflow/python/framework/dtypes.py:476: FutureWarning: Passing (type, 1) or '1type' as a synonym of type is deprecated; in a future version of numpy, it will be understood as (type, (1,)) / '(1,)type'.\n",
            "  np_resource = np.dtype([(\"resource\", np.ubyte, 1)])\n",
            "06-18 02:19:33 - x - INFO: - Namespace(adv_lambda=0.001, batch_size=4, buffer_size=10, drop_rate=0.2, epoch=50, eval=0, gan=False, img_size=224, input='data/test/raw', lr=0.0001, mode='train', model='normal', name='bfm09_face', nz=512, output='results/raw', restore=False, root_dir='.', seed=2, stage='all', suffix=None, wide=False, workers=4)\n",
            "06-18 02:19:33 - x - INFO: - Loading data from .\n",
            "06-18 02:19:34 - x - INFO: - Transform Matrices and Graph Laplacians Generated.\n",
            "06-18 02:19:34 - x - INFO: - Number of train data: 5\n",
            "06-18 02:19:34 - x - INFO: - Evaluation frequency: 1\n",
            "Traceback (most recent call last):\n",
            "  File \"main.py\", line 133, in <module>\n",
            "    main()\n",
            "  File \"main.py\", line 86, in main\n",
            "    model = NormalModel(args, sess, graph, refer_mesh, image_paths, img_file)\n",
            "  File \"/content/drive/MyDrive/Colab Notebooks/gcn/model_normal.py\", line 16, in __init__\n",
            "    super(Model, self).__init__(*args, **kwargs)\n",
            "  File \"/content/drive/MyDrive/Colab Notebooks/gcn/base_model.py\", line 112, in __init__\n",
            "    self.build_graph()\n",
            "  File \"/content/drive/MyDrive/Colab Notebooks/gcn/base_model.py\", line 197, in build_graph\n",
            "    pred_results = self.inference(self.train_rgbas, self.coeff, self.image_emb)\n",
            "  File \"/content/drive/MyDrive/Colab Notebooks/gcn/base_model.py\", line 336, in inference\n",
            "    diffuse_colors=(pca_texture + 1) / 2)\n",
            "  File \"/content/drive/MyDrive/Colab Notebooks/gcn/base_model.py\", line 330, in neural_renderer\n",
            "    ambient_color=ambient_color)\n",
            "  File \"/content/drive/MyDrive/Colab Notebooks/gcn/lib/mesh_renderer.py\", line 359, in mesh_renderer\n",
            "    camera_up)\n",
            "  File \"/usr/local/lib/python3.5/dist-packages/camera_utils.py\", line 85, in look_at\n",
            "    forward_norm = tf.norm(forward, ord='euclidean', axis=1, keepdims=True)\n",
            "TypeError: norm() got an unexpected keyword argument 'keepdims'\n"
          ]
        }
      ]
    },
    {
      "cell_type": "code",
      "source": [
        "!cat /usr/local/lib/python3.5/dist-packages/camera_utils.py"
      ],
      "metadata": {
        "colab": {
          "base_uri": "https://localhost:8080/"
        },
        "id": "7p_dh1zbUegD",
        "outputId": "b2e6e26f-6737-42c7-eecc-be88fdca0bdd"
      },
      "execution_count": null,
      "outputs": [
        {
          "output_type": "stream",
          "name": "stdout",
          "text": [
            "# Copyright 2017 Google LLC\n",
            "#\n",
            "# Licensed under the Apache License, Version 2.0 (the \"License\");\n",
            "# you may not use this file except in compliance with the License.\n",
            "# You may obtain a copy of the License at\n",
            "#\n",
            "#     https://www.apache.org/licenses/LICENSE-2.0\n",
            "#\n",
            "# Unless required by applicable law or agreed to in writing, software\n",
            "# distributed under the License is distributed on an \"AS IS\" BASIS,\n",
            "# WITHOUT WARRANTIES OR CONDITIONS OF ANY KIND, either express or implied.\n",
            "# See the License for the specific language governing permissions and\n",
            "# limitations under the License.\n",
            "\n",
            "\"\"\"Collection of TF functions for managing 3D camera matrices.\"\"\"\n",
            "\n",
            "from __future__ import absolute_import\n",
            "from __future__ import division\n",
            "from __future__ import print_function\n",
            "\n",
            "import math\n",
            "import tensorflow as tf\n",
            "\n",
            "\n",
            "def perspective(aspect_ratio, fov_y, near_clip, far_clip):\n",
            "  \"\"\"Computes perspective transformation matrices.\n",
            "\n",
            "  Functionality mimes gluPerspective (third_party/GL/glu/include/GLU/glu.h).\n",
            "\n",
            "  Args:\n",
            "    aspect_ratio: float value specifying the image aspect ratio (width/height).\n",
            "    fov_y: 1-D float32 Tensor with shape [batch_size] specifying output vertical\n",
            "        field of views in degrees.\n",
            "    near_clip: 1-D float32 Tensor with shape [batch_size] specifying near\n",
            "        clipping plane distance.\n",
            "    far_clip: 1-D float32 Tensor with shape [batch_size] specifying far clipping\n",
            "        plane distance.\n",
            "\n",
            "  Returns:\n",
            "    A [batch_size, 4, 4] float tensor that maps from right-handed points in eye\n",
            "    space to left-handed points in clip space.\n",
            "  \"\"\"\n",
            "  # The multiplication of fov_y by pi/360.0 simultaneously converts to radians\n",
            "  # and adds the half-angle factor of .5.\n",
            "  focal_lengths_y = 1.0 / tf.tan(fov_y * (math.pi / 360.0))\n",
            "  depth_range = far_clip - near_clip\n",
            "  p_22 = -(far_clip + near_clip) / depth_range\n",
            "  p_23 = -2.0 * (far_clip * near_clip / depth_range)\n",
            "\n",
            "  zeros = tf.zeros_like(p_23, dtype=tf.float32)\n",
            "  # pyformat: disable\n",
            "  perspective_transform = tf.concat(\n",
            "      [\n",
            "          focal_lengths_y / aspect_ratio, zeros, zeros, zeros,\n",
            "          zeros, focal_lengths_y, zeros, zeros,\n",
            "          zeros, zeros, p_22, p_23,\n",
            "          zeros, zeros, -tf.ones_like(p_23, dtype=tf.float32), zeros\n",
            "      ], axis=0)\n",
            "  # pyformat: enable\n",
            "  perspective_transform = tf.reshape(perspective_transform, [4, 4, -1])\n",
            "  return tf.transpose(perspective_transform, [2, 0, 1])\n",
            "\n",
            "\n",
            "def look_at(eye, center, world_up):\n",
            "  \"\"\"Computes camera viewing matrices.\n",
            "\n",
            "  Functionality mimes gluLookAt (third_party/GL/glu/include/GLU/glu.h).\n",
            "\n",
            "  Args:\n",
            "    eye: 2-D float32 tensor with shape [batch_size, 3] containing the XYZ world\n",
            "        space position of the camera.\n",
            "    center: 2-D float32 tensor with shape [batch_size, 3] containing a position\n",
            "        along the center of the camera's gaze.\n",
            "    world_up: 2-D float32 tensor with shape [batch_size, 3] specifying the\n",
            "        world's up direction; the output camera will have no tilt with respect\n",
            "        to this direction.\n",
            "\n",
            "  Returns:\n",
            "    A [batch_size, 4, 4] float tensor containing a right-handed camera\n",
            "    extrinsics matrix that maps points from world space to points in eye space.\n",
            "  \"\"\"\n",
            "  batch_size = center.shape[0].value\n",
            "  vector_degeneracy_cutoff = 1e-6\n",
            "  forward = center - eye\n",
            "  forward_norm = tf.norm(forward, ord='euclidean', axis=1, keepdims=True)\n",
            "  tf.assert_greater(\n",
            "      forward_norm,\n",
            "      vector_degeneracy_cutoff,\n",
            "      message='Camera matrix is degenerate because eye and center are close.')\n",
            "  forward = tf.divide(forward, forward_norm)\n",
            "\n",
            "  to_side = tf.cross(forward, world_up)\n",
            "  to_side_norm = tf.norm(to_side, ord='euclidean', axis=1, keepdims=True)\n",
            "  tf.assert_greater(\n",
            "      to_side_norm,\n",
            "      vector_degeneracy_cutoff,\n",
            "      message='Camera matrix is degenerate because up and gaze are close or'\n",
            "      'because up is degenerate.')\n",
            "  to_side = tf.divide(to_side, to_side_norm)\n",
            "  cam_up = tf.cross(to_side, forward)\n",
            "\n",
            "  w_column = tf.constant(\n",
            "      batch_size * [[0., 0., 0., 1.]], dtype=tf.float32)  # [batch_size, 4]\n",
            "  w_column = tf.reshape(w_column, [batch_size, 4, 1])\n",
            "  view_rotation = tf.stack(\n",
            "      [to_side, cam_up, -forward,\n",
            "       tf.zeros_like(to_side, dtype=tf.float32)],\n",
            "      axis=1)  # [batch_size, 4, 3] matrix\n",
            "  view_rotation = tf.concat(\n",
            "      [view_rotation, w_column], axis=2)  # [batch_size, 4, 4]\n",
            "\n",
            "  identity_batch = tf.tile(tf.expand_dims(tf.eye(3), 0), [batch_size, 1, 1])\n",
            "  view_translation = tf.concat([identity_batch, tf.expand_dims(-eye, 2)], 2)\n",
            "  view_translation = tf.concat(\n",
            "      [view_translation,\n",
            "       tf.reshape(w_column, [batch_size, 1, 4])], 1)\n",
            "  camera_matrices = tf.matmul(view_rotation, view_translation)\n",
            "  return camera_matrices\n",
            "\n",
            "\n",
            "def euler_matrices(angles):\n",
            "  \"\"\"Computes a XYZ Tait-Bryan (improper Euler angle) rotation.\n",
            "\n",
            "  Returns 4x4 matrices for convenient multiplication with other transformations.\n",
            "\n",
            "  Args:\n",
            "    angles: a [batch_size, 3] tensor containing X, Y, and Z angles in radians.\n",
            "\n",
            "  Returns:\n",
            "    a [batch_size, 4, 4] tensor of matrices.\n",
            "  \"\"\"\n",
            "  s = tf.sin(angles)\n",
            "  c = tf.cos(angles)\n",
            "  # Rename variables for readability in the matrix definition below.\n",
            "  c0, c1, c2 = (c[:, 0], c[:, 1], c[:, 2])\n",
            "  s0, s1, s2 = (s[:, 0], s[:, 1], s[:, 2])\n",
            "\n",
            "  zeros = tf.zeros_like(s[:, 0])\n",
            "  ones = tf.ones_like(s[:, 0])\n",
            "\n",
            "  # pyformat: disable\n",
            "  flattened = tf.concat(\n",
            "      [\n",
            "          c2 * c1, c2 * s1 * s0 - c0 * s2, s2 * s0 + c2 * c0 * s1, zeros,\n",
            "          c1 * s2, c2 * c0 + s2 * s1 * s0, c0 * s2 * s1 - c2 * s0, zeros,\n",
            "          -s1, c1 * s0, c1 * c0, zeros,\n",
            "          zeros, zeros, zeros, ones\n",
            "      ],\n",
            "      axis=0)\n",
            "  # pyformat: enable\n",
            "  reshaped = tf.reshape(flattened, [4, 4, -1])\n",
            "  return tf.transpose(reshaped, [2, 0, 1])\n",
            "\n",
            "\n",
            "def transform_homogeneous(matrices, vertices):\n",
            "  \"\"\"Applies batched 4x4 homogenous matrix transformations to 3-D vertices.\n",
            "\n",
            "  The vertices are input and output as as row-major, but are interpreted as\n",
            "  column vectors multiplied on the right-hand side of the matrices. More\n",
            "  explicitly, this function computes (MV^T)^T.\n",
            "  Vertices are assumed to be xyz, and are extended to xyzw with w=1.\n",
            "\n",
            "  Args:\n",
            "    matrices: a [batch_size, 4, 4] tensor of matrices.\n",
            "    vertices: a [batch_size, N, 3] tensor of xyz vertices.\n",
            "\n",
            "  Returns:\n",
            "    a [batch_size, N, 4] tensor of xyzw vertices.\n",
            "\n",
            "  Raises:\n",
            "    ValueError: if matrices or vertices have the wrong number of dimensions.\n",
            "  \"\"\"\n",
            "  if len(matrices.shape) != 3:\n",
            "    raise ValueError(\n",
            "        'matrices must have 3 dimensions (missing batch dimension?)')\n",
            "  if len(vertices.shape) != 3:\n",
            "    raise ValueError(\n",
            "        'vertices must have 3 dimensions (missing batch dimension?)')\n",
            "  homogeneous_coord = tf.ones(\n",
            "      [tf.shape(vertices)[0], tf.shape(vertices)[1], 1], dtype=tf.float32)\n",
            "  vertices_homogeneous = tf.concat([vertices, homogeneous_coord], 2)\n",
            "\n",
            "  return tf.matmul(vertices_homogeneous, matrices, transpose_b=True)\n"
          ]
        }
      ]
    }
  ]
}