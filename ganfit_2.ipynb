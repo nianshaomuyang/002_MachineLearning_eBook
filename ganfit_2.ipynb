{
  "cells": [
    {
      "cell_type": "markdown",
      "metadata": {
        "id": "view-in-github",
        "colab_type": "text"
      },
      "source": [
        "<a href=\"https://colab.research.google.com/github/nianshaomuyang/002_MachineLearning_eBook/blob/master/ganfit_2.ipynb\" target=\"_parent\"><img src=\"https://colab.research.google.com/assets/colab-badge.svg\" alt=\"Open In Colab\"/></a>"
      ]
    },
    {
      "cell_type": "markdown",
      "metadata": {
        "id": "sUrpuVqdAN2p"
      },
      "source": []
    },
    {
      "cell_type": "markdown",
      "metadata": {
        "id": "s3fKROb6nD1g"
      },
      "source": [
        "第一步 装载谷歌网盘"
      ]
    },
    {
      "cell_type": "code",
      "execution_count": null,
      "metadata": {
        "colab": {
          "base_uri": "https://localhost:8080/"
        },
        "id": "OACryUMSnMoG",
        "outputId": "004b0d27-937b-4188-8e8a-0ec30e51add2"
      },
      "outputs": [
        {
          "name": "stdout",
          "output_type": "stream",
          "text": [
            "Drive already mounted at /content/drive/; to attempt to forcibly remount, call drive.mount(\"/content/drive/\", force_remount=True).\n"
          ]
        }
      ],
      "source": [
        "from google.colab import drive\n",
        "import os\n",
        "# 挂载网盘\n",
        "drive.mount('/content/drive/')"
      ]
    },
    {
      "cell_type": "markdown",
      "metadata": {
        "id": "ANi8FsWRnyuK"
      },
      "source": [
        "第二步 下载menpo3d"
      ]
    },
    {
      "cell_type": "code",
      "execution_count": null,
      "metadata": {
        "id": "qm-Ux12Zr0sA"
      },
      "outputs": [],
      "source": [
        "import os\n",
        "# 切换路径\n",
        "os.chdir('/content/drive/MyDrive/Colab Notebooks/menpo3d-0.8.0')"
      ]
    },
    {
      "cell_type": "markdown",
      "metadata": {
        "id": "IilGThdjn8IV"
      },
      "source": [
        "第三步 安装menpo3d"
      ]
    },
    {
      "cell_type": "code",
      "execution_count": null,
      "metadata": {
        "colab": {
          "base_uri": "https://localhost:8080/"
        },
        "id": "PpHI_Pr5n4mq",
        "outputId": "0437c922-ea9b-4a83-d5a0-3f1d90c92a25"
      },
      "outputs": [
        {
          "name": "stdout",
          "output_type": "stream",
          "text": [
            "running build\n",
            "running build_py\n",
            "UPDATING build/lib.linux-x86_64-cpython-310/menpo3d/_version.py\n",
            "set build/lib.linux-x86_64-cpython-310/menpo3d/_version.py to '0.8.0'\n",
            "running build_ext\n",
            "running install\n",
            "/usr/local/lib/python3.10/dist-packages/setuptools/_distutils/cmd.py:66: SetuptoolsDeprecationWarning: setup.py install is deprecated.\n",
            "!!\n",
            "\n",
            "        ********************************************************************************\n",
            "        Please avoid running ``setup.py`` directly.\n",
            "        Instead, use pypa/build, pypa/installer, pypa/build or\n",
            "        other standards-based tools.\n",
            "\n",
            "        See https://blog.ganssle.io/articles/2021/10/setup-py-deprecated.html for details.\n",
            "        ********************************************************************************\n",
            "\n",
            "!!\n",
            "  self.initialize_options()\n",
            "/usr/local/lib/python3.10/dist-packages/setuptools/_distutils/cmd.py:66: EasyInstallDeprecationWarning: easy_install command is deprecated.\n",
            "!!\n",
            "\n",
            "        ********************************************************************************\n",
            "        Please avoid running ``setup.py`` and ``easy_install``.\n",
            "        Instead, use pypa/build, pypa/installer, pypa/build or\n",
            "        other standards-based tools.\n",
            "\n",
            "        See https://github.com/pypa/setuptools/issues/917 for details.\n",
            "        ********************************************************************************\n",
            "\n",
            "!!\n",
            "  self.initialize_options()\n",
            "running bdist_egg\n",
            "running egg_info\n",
            "writing menpo3d.egg-info/PKG-INFO\n",
            "writing dependency_links to menpo3d.egg-info/dependency_links.txt\n",
            "writing requirements to menpo3d.egg-info/requires.txt\n",
            "writing top-level names to menpo3d.egg-info/top_level.txt\n",
            "/usr/local/lib/python3.10/dist-packages/setuptools/command/sdist.py:119: SetuptoolsDeprecationWarning: `build_py` command does not inherit from setuptools' `build_py`.\n",
            "!!\n",
            "\n",
            "        ********************************************************************************\n",
            "        Custom 'build_py' does not implement 'get_data_files_without_manifest'.\n",
            "        Please extend command classes from setuptools instead of distutils.\n",
            "\n",
            "        See https://peps.python.org/pep-0632/ for details.\n",
            "        ********************************************************************************\n",
            "\n",
            "!!\n",
            "  self._add_data_files(self._safe_data_files(build_py))\n",
            "reading manifest file 'menpo3d.egg-info/SOURCES.txt'\n",
            "reading manifest template 'MANIFEST.in'\n",
            "warning: no files found matching '*.h' under directory 'menpo3d'\n",
            "warning: no files found matching '*.pxd' under directory 'menpo3d'\n",
            "adding license file 'LICENSE.txt'\n",
            "writing manifest file 'menpo3d.egg-info/SOURCES.txt'\n",
            "installing library code to build/bdist.linux-x86_64/egg\n",
            "running install_lib\n",
            "running build_py\n",
            "UPDATING build/lib.linux-x86_64-cpython-310/menpo3d/_version.py\n",
            "set build/lib.linux-x86_64-cpython-310/menpo3d/_version.py to '0.8.0'\n",
            "running build_ext\n",
            "creating build/bdist.linux-x86_64/egg\n",
            "creating build/bdist.linux-x86_64/egg/menpo3d\n",
            "creating build/bdist.linux-x86_64/egg/menpo3d/correspond\n",
            "copying build/lib.linux-x86_64-cpython-310/menpo3d/correspond/nicp.py -> build/bdist.linux-x86_64/egg/menpo3d/correspond\n",
            "copying build/lib.linux-x86_64-cpython-310/menpo3d/correspond/__init__.py -> build/bdist.linux-x86_64/egg/menpo3d/correspond\n",
            "creating build/bdist.linux-x86_64/egg/menpo3d/io\n",
            "creating build/bdist.linux-x86_64/egg/menpo3d/io/input\n",
            "creating build/bdist.linux-x86_64/egg/menpo3d/io/input/mesh\n",
            "copying build/lib.linux-x86_64-cpython-310/menpo3d/io/input/mesh/__init__.py -> build/bdist.linux-x86_64/egg/menpo3d/io/input/mesh\n",
            "copying build/lib.linux-x86_64-cpython-310/menpo3d/io/input/mesh/base.py -> build/bdist.linux-x86_64/egg/menpo3d/io/input/mesh\n",
            "copying build/lib.linux-x86_64-cpython-310/menpo3d/io/input/base.py -> build/bdist.linux-x86_64/egg/menpo3d/io/input\n",
            "copying build/lib.linux-x86_64-cpython-310/menpo3d/io/input/lsfm.py -> build/bdist.linux-x86_64/egg/menpo3d/io/input\n",
            "copying build/lib.linux-x86_64-cpython-310/menpo3d/io/input/extensions.py -> build/bdist.linux-x86_64/egg/menpo3d/io/input\n",
            "copying build/lib.linux-x86_64-cpython-310/menpo3d/io/input/landmark_mesh.py -> build/bdist.linux-x86_64/egg/menpo3d/io/input\n",
            "copying build/lib.linux-x86_64-cpython-310/menpo3d/io/input/__init__.py -> build/bdist.linux-x86_64/egg/menpo3d/io/input\n",
            "creating build/bdist.linux-x86_64/egg/menpo3d/io/output\n",
            "copying build/lib.linux-x86_64-cpython-310/menpo3d/io/output/base.py -> build/bdist.linux-x86_64/egg/menpo3d/io/output\n",
            "copying build/lib.linux-x86_64-cpython-310/menpo3d/io/output/mesh.py -> build/bdist.linux-x86_64/egg/menpo3d/io/output\n",
            "copying build/lib.linux-x86_64-cpython-310/menpo3d/io/output/extensions.py -> build/bdist.linux-x86_64/egg/menpo3d/io/output\n",
            "copying build/lib.linux-x86_64-cpython-310/menpo3d/io/output/__init__.py -> build/bdist.linux-x86_64/egg/menpo3d/io/output\n",
            "creating build/bdist.linux-x86_64/egg/menpo3d/io/test\n",
            "copying build/lib.linux-x86_64-cpython-310/menpo3d/io/test/io_input_test.py -> build/bdist.linux-x86_64/egg/menpo3d/io/test\n",
            "copying build/lib.linux-x86_64-cpython-310/menpo3d/io/test/io_export_test.py -> build/bdist.linux-x86_64/egg/menpo3d/io/test\n",
            "copying build/lib.linux-x86_64-cpython-310/menpo3d/io/test/__init__.py -> build/bdist.linux-x86_64/egg/menpo3d/io/test\n",
            "copying build/lib.linux-x86_64-cpython-310/menpo3d/io/__init__.py -> build/bdist.linux-x86_64/egg/menpo3d/io\n",
            "creating build/bdist.linux-x86_64/egg/menpo3d/morphablemodel\n",
            "creating build/bdist.linux-x86_64/egg/menpo3d/morphablemodel/algorithm\n",
            "copying build/lib.linux-x86_64-cpython-310/menpo3d/morphablemodel/algorithm/derivatives.py -> build/bdist.linux-x86_64/egg/menpo3d/morphablemodel/algorithm\n",
            "copying build/lib.linux-x86_64-cpython-310/menpo3d/morphablemodel/algorithm/__init__.py -> build/bdist.linux-x86_64/egg/menpo3d/morphablemodel/algorithm\n",
            "copying build/lib.linux-x86_64-cpython-310/menpo3d/morphablemodel/algorithm/lk.py -> build/bdist.linux-x86_64/egg/menpo3d/morphablemodel/algorithm\n",
            "copying build/lib.linux-x86_64-cpython-310/menpo3d/morphablemodel/shapemodel.py -> build/bdist.linux-x86_64/egg/menpo3d/morphablemodel\n",
            "copying build/lib.linux-x86_64-cpython-310/menpo3d/morphablemodel/result.py -> build/bdist.linux-x86_64/egg/menpo3d/morphablemodel\n",
            "copying build/lib.linux-x86_64-cpython-310/menpo3d/morphablemodel/base.py -> build/bdist.linux-x86_64/egg/menpo3d/morphablemodel\n",
            "copying build/lib.linux-x86_64-cpython-310/menpo3d/morphablemodel/__init__.py -> build/bdist.linux-x86_64/egg/menpo3d/morphablemodel\n",
            "copying build/lib.linux-x86_64-cpython-310/menpo3d/morphablemodel/multilinear_model.py -> build/bdist.linux-x86_64/egg/menpo3d/morphablemodel\n",
            "copying build/lib.linux-x86_64-cpython-310/menpo3d/morphablemodel/fitter.py -> build/bdist.linux-x86_64/egg/menpo3d/morphablemodel\n",
            "creating build/bdist.linux-x86_64/egg/menpo3d/rasterize\n",
            "copying build/lib.linux-x86_64-cpython-310/menpo3d/rasterize/cpu.py -> build/bdist.linux-x86_64/egg/menpo3d/rasterize\n",
            "copying build/lib.linux-x86_64-cpython-310/menpo3d/rasterize/__init__.py -> build/bdist.linux-x86_64/egg/menpo3d/rasterize\n",
            "copying build/lib.linux-x86_64-cpython-310/menpo3d/rasterize/base.py -> build/bdist.linux-x86_64/egg/menpo3d/rasterize\n",
            "copying build/lib.linux-x86_64-cpython-310/menpo3d/rasterize/opengl.py -> build/bdist.linux-x86_64/egg/menpo3d/rasterize\n",
            "copying build/lib.linux-x86_64-cpython-310/menpo3d/rasterize/transform.py -> build/bdist.linux-x86_64/egg/menpo3d/rasterize\n",
            "copying build/lib.linux-x86_64-cpython-310/menpo3d/rasterize/tripixel.cpython-310-x86_64-linux-gnu.so -> build/bdist.linux-x86_64/egg/menpo3d/rasterize\n",
            "creating build/bdist.linux-x86_64/egg/menpo3d/visualize\n",
            "copying build/lib.linux-x86_64-cpython-310/menpo3d/visualize/__init__.py -> build/bdist.linux-x86_64/egg/menpo3d/visualize\n",
            "copying build/lib.linux-x86_64-cpython-310/menpo3d/visualize/viewmayavi.py -> build/bdist.linux-x86_64/egg/menpo3d/visualize\n",
            "copying build/lib.linux-x86_64-cpython-310/menpo3d/visualize/base.py -> build/bdist.linux-x86_64/egg/menpo3d/visualize\n",
            "creating build/bdist.linux-x86_64/egg/menpo3d/data\n",
            "copying build/lib.linux-x86_64-cpython-310/menpo3d/data/bunny.obj -> build/bdist.linux-x86_64/egg/menpo3d/data\n",
            "copying build/lib.linux-x86_64-cpython-310/menpo3d/data/bunny.ljson -> build/bdist.linux-x86_64/egg/menpo3d/data\n",
            "copying build/lib.linux-x86_64-cpython-310/menpo3d/data/james.ljson -> build/bdist.linux-x86_64/egg/menpo3d/data\n",
            "copying build/lib.linux-x86_64-cpython-310/menpo3d/data/bunny_no_nose.ljson -> build/bdist.linux-x86_64/egg/menpo3d/data\n",
            "copying build/lib.linux-x86_64-cpython-310/menpo3d/data/james.jpg -> build/bdist.linux-x86_64/egg/menpo3d/data\n",
            "copying build/lib.linux-x86_64-cpython-310/menpo3d/data/james.obj -> build/bdist.linux-x86_64/egg/menpo3d/data\n",
            "copying build/lib.linux-x86_64-cpython-310/menpo3d/data/james.obj.mtl -> build/bdist.linux-x86_64/egg/menpo3d/data\n",
            "copying build/lib.linux-x86_64-cpython-310/menpo3d/data/template.ljson -> build/bdist.linux-x86_64/egg/menpo3d/data\n",
            "copying build/lib.linux-x86_64-cpython-310/menpo3d/data/template.ply -> build/bdist.linux-x86_64/egg/menpo3d/data\n",
            "copying build/lib.linux-x86_64-cpython-310/menpo3d/base.py -> build/bdist.linux-x86_64/egg/menpo3d\n",
            "copying build/lib.linux-x86_64-cpython-310/menpo3d/__init__.py -> build/bdist.linux-x86_64/egg/menpo3d\n",
            "copying build/lib.linux-x86_64-cpython-310/menpo3d/barycentric.py -> build/bdist.linux-x86_64/egg/menpo3d\n",
            "copying build/lib.linux-x86_64-cpython-310/menpo3d/math.py -> build/bdist.linux-x86_64/egg/menpo3d\n",
            "copying build/lib.linux-x86_64-cpython-310/menpo3d/checks.py -> build/bdist.linux-x86_64/egg/menpo3d\n",
            "copying build/lib.linux-x86_64-cpython-310/menpo3d/camera.py -> build/bdist.linux-x86_64/egg/menpo3d\n",
            "copying build/lib.linux-x86_64-cpython-310/menpo3d/unwrap.py -> build/bdist.linux-x86_64/egg/menpo3d\n",
            "copying build/lib.linux-x86_64-cpython-310/menpo3d/extractimage.py -> build/bdist.linux-x86_64/egg/menpo3d\n",
            "copying build/lib.linux-x86_64-cpython-310/menpo3d/result.py -> build/bdist.linux-x86_64/egg/menpo3d\n",
            "copying build/lib.linux-x86_64-cpython-310/menpo3d/vtk_test.py -> build/bdist.linux-x86_64/egg/menpo3d\n",
            "copying build/lib.linux-x86_64-cpython-310/menpo3d/vtkutils.py -> build/bdist.linux-x86_64/egg/menpo3d\n",
            "copying build/lib.linux-x86_64-cpython-310/menpo3d/_version.py -> build/bdist.linux-x86_64/egg/menpo3d\n",
            "byte-compiling build/bdist.linux-x86_64/egg/menpo3d/correspond/nicp.py to nicp.cpython-310.pyc\n",
            "byte-compiling build/bdist.linux-x86_64/egg/menpo3d/correspond/__init__.py to __init__.cpython-310.pyc\n",
            "byte-compiling build/bdist.linux-x86_64/egg/menpo3d/io/input/mesh/__init__.py to __init__.cpython-310.pyc\n",
            "byte-compiling build/bdist.linux-x86_64/egg/menpo3d/io/input/mesh/base.py to base.cpython-310.pyc\n",
            "byte-compiling build/bdist.linux-x86_64/egg/menpo3d/io/input/base.py to base.cpython-310.pyc\n",
            "byte-compiling build/bdist.linux-x86_64/egg/menpo3d/io/input/lsfm.py to lsfm.cpython-310.pyc\n",
            "byte-compiling build/bdist.linux-x86_64/egg/menpo3d/io/input/extensions.py to extensions.cpython-310.pyc\n",
            "byte-compiling build/bdist.linux-x86_64/egg/menpo3d/io/input/landmark_mesh.py to landmark_mesh.cpython-310.pyc\n",
            "byte-compiling build/bdist.linux-x86_64/egg/menpo3d/io/input/__init__.py to __init__.cpython-310.pyc\n",
            "byte-compiling build/bdist.linux-x86_64/egg/menpo3d/io/output/base.py to base.cpython-310.pyc\n",
            "byte-compiling build/bdist.linux-x86_64/egg/menpo3d/io/output/mesh.py to mesh.cpython-310.pyc\n",
            "byte-compiling build/bdist.linux-x86_64/egg/menpo3d/io/output/extensions.py to extensions.cpython-310.pyc\n",
            "byte-compiling build/bdist.linux-x86_64/egg/menpo3d/io/output/__init__.py to __init__.cpython-310.pyc\n",
            "byte-compiling build/bdist.linux-x86_64/egg/menpo3d/io/test/io_input_test.py to io_input_test.cpython-310.pyc\n",
            "byte-compiling build/bdist.linux-x86_64/egg/menpo3d/io/test/io_export_test.py to io_export_test.cpython-310.pyc\n",
            "byte-compiling build/bdist.linux-x86_64/egg/menpo3d/io/test/__init__.py to __init__.cpython-310.pyc\n",
            "byte-compiling build/bdist.linux-x86_64/egg/menpo3d/io/__init__.py to __init__.cpython-310.pyc\n",
            "byte-compiling build/bdist.linux-x86_64/egg/menpo3d/morphablemodel/algorithm/derivatives.py to derivatives.cpython-310.pyc\n",
            "byte-compiling build/bdist.linux-x86_64/egg/menpo3d/morphablemodel/algorithm/__init__.py to __init__.cpython-310.pyc\n",
            "byte-compiling build/bdist.linux-x86_64/egg/menpo3d/morphablemodel/algorithm/lk.py to lk.cpython-310.pyc\n",
            "byte-compiling build/bdist.linux-x86_64/egg/menpo3d/morphablemodel/shapemodel.py to shapemodel.cpython-310.pyc\n",
            "byte-compiling build/bdist.linux-x86_64/egg/menpo3d/morphablemodel/result.py to result.cpython-310.pyc\n",
            "byte-compiling build/bdist.linux-x86_64/egg/menpo3d/morphablemodel/base.py to base.cpython-310.pyc\n",
            "byte-compiling build/bdist.linux-x86_64/egg/menpo3d/morphablemodel/__init__.py to __init__.cpython-310.pyc\n",
            "byte-compiling build/bdist.linux-x86_64/egg/menpo3d/morphablemodel/multilinear_model.py to multilinear_model.cpython-310.pyc\n",
            "byte-compiling build/bdist.linux-x86_64/egg/menpo3d/morphablemodel/fitter.py to fitter.cpython-310.pyc\n",
            "byte-compiling build/bdist.linux-x86_64/egg/menpo3d/rasterize/cpu.py to cpu.cpython-310.pyc\n",
            "byte-compiling build/bdist.linux-x86_64/egg/menpo3d/rasterize/__init__.py to __init__.cpython-310.pyc\n",
            "byte-compiling build/bdist.linux-x86_64/egg/menpo3d/rasterize/base.py to base.cpython-310.pyc\n",
            "byte-compiling build/bdist.linux-x86_64/egg/menpo3d/rasterize/opengl.py to opengl.cpython-310.pyc\n",
            "byte-compiling build/bdist.linux-x86_64/egg/menpo3d/rasterize/transform.py to transform.cpython-310.pyc\n",
            "byte-compiling build/bdist.linux-x86_64/egg/menpo3d/visualize/__init__.py to __init__.cpython-310.pyc\n",
            "byte-compiling build/bdist.linux-x86_64/egg/menpo3d/visualize/viewmayavi.py to viewmayavi.cpython-310.pyc\n",
            "byte-compiling build/bdist.linux-x86_64/egg/menpo3d/visualize/base.py to base.cpython-310.pyc\n",
            "byte-compiling build/bdist.linux-x86_64/egg/menpo3d/base.py to base.cpython-310.pyc\n",
            "byte-compiling build/bdist.linux-x86_64/egg/menpo3d/__init__.py to __init__.cpython-310.pyc\n",
            "byte-compiling build/bdist.linux-x86_64/egg/menpo3d/barycentric.py to barycentric.cpython-310.pyc\n",
            "byte-compiling build/bdist.linux-x86_64/egg/menpo3d/math.py to math.cpython-310.pyc\n",
            "byte-compiling build/bdist.linux-x86_64/egg/menpo3d/checks.py to checks.cpython-310.pyc\n",
            "byte-compiling build/bdist.linux-x86_64/egg/menpo3d/camera.py to camera.cpython-310.pyc\n",
            "byte-compiling build/bdist.linux-x86_64/egg/menpo3d/unwrap.py to unwrap.cpython-310.pyc\n",
            "byte-compiling build/bdist.linux-x86_64/egg/menpo3d/extractimage.py to extractimage.cpython-310.pyc\n",
            "byte-compiling build/bdist.linux-x86_64/egg/menpo3d/result.py to result.cpython-310.pyc\n",
            "byte-compiling build/bdist.linux-x86_64/egg/menpo3d/vtk_test.py to vtk_test.cpython-310.pyc\n",
            "byte-compiling build/bdist.linux-x86_64/egg/menpo3d/vtkutils.py to vtkutils.cpython-310.pyc\n",
            "byte-compiling build/bdist.linux-x86_64/egg/menpo3d/_version.py to _version.cpython-310.pyc\n",
            "creating stub loader for menpo3d/rasterize/tripixel.cpython-310-x86_64-linux-gnu.so\n",
            "byte-compiling build/bdist.linux-x86_64/egg/menpo3d/rasterize/tripixel.py to tripixel.cpython-310.pyc\n",
            "creating build/bdist.linux-x86_64/egg/EGG-INFO\n",
            "copying menpo3d.egg-info/PKG-INFO -> build/bdist.linux-x86_64/egg/EGG-INFO\n",
            "copying menpo3d.egg-info/SOURCES.txt -> build/bdist.linux-x86_64/egg/EGG-INFO\n",
            "copying menpo3d.egg-info/dependency_links.txt -> build/bdist.linux-x86_64/egg/EGG-INFO\n",
            "copying menpo3d.egg-info/requires.txt -> build/bdist.linux-x86_64/egg/EGG-INFO\n",
            "copying menpo3d.egg-info/top_level.txt -> build/bdist.linux-x86_64/egg/EGG-INFO\n",
            "writing build/bdist.linux-x86_64/egg/EGG-INFO/native_libs.txt\n",
            "zip_safe flag not set; analyzing archive contents...\n",
            "menpo3d.__pycache__.base.cpython-310: module references __file__\n",
            "menpo3d.rasterize.__pycache__.opengl.cpython-310: module references __file__\n",
            "menpo3d.rasterize.__pycache__.tripixel.cpython-310: module references __file__\n",
            "creating 'dist/menpo3d-0.8.0-py3.10-linux-x86_64.egg' and adding 'build/bdist.linux-x86_64/egg' to it\n",
            "removing 'build/bdist.linux-x86_64/egg' (and everything under it)\n",
            "Processing menpo3d-0.8.0-py3.10-linux-x86_64.egg\n",
            "removing '/usr/local/lib/python3.10/dist-packages/menpo3d-0.8.0-py3.10-linux-x86_64.egg' (and everything under it)\n",
            "creating /usr/local/lib/python3.10/dist-packages/menpo3d-0.8.0-py3.10-linux-x86_64.egg\n",
            "Extracting menpo3d-0.8.0-py3.10-linux-x86_64.egg to /usr/local/lib/python3.10/dist-packages\n",
            "menpo3d 0.8.0 is already the active version in easy-install.pth\n",
            "\n",
            "Installed /usr/local/lib/python3.10/dist-packages/menpo3d-0.8.0-py3.10-linux-x86_64.egg\n",
            "Processing dependencies for menpo3d==0.8.0\n",
            "Searching for mayavi==4.8.1\n",
            "Best match: mayavi 4.8.1\n",
            "Processing mayavi-4.8.1-py3.10-linux-x86_64.egg\n",
            "mayavi 4.8.1 is already the active version in easy-install.pth\n",
            "Installing mayavi2 script to /usr/local/bin\n",
            "Installing tvtk_doc script to /usr/local/bin\n",
            "\n",
            "Using /usr/local/lib/python3.10/dist-packages/mayavi-4.8.1-py3.10-linux-x86_64.egg\n",
            "Searching for menpo==0.10.0\n",
            "Best match: menpo 0.10.0\n",
            "Processing menpo-0.10.0-py3.10.egg\n",
            "menpo 0.10.0 is already the active version in easy-install.pth\n",
            "\n",
            "Using /usr/local/lib/python3.10/dist-packages/menpo-0.10.0-py3.10.egg\n",
            "Searching for vtk==9.2.6\n",
            "Best match: vtk 9.2.6\n",
            "Processing vtk-9.2.6-py3.10-linux-x86_64.egg\n",
            "vtk 9.2.6 is already the active version in easy-install.pth\n",
            "\n",
            "Using /usr/local/lib/python3.10/dist-packages/vtk-9.2.6-py3.10-linux-x86_64.egg\n",
            "Searching for packaging==23.1\n",
            "Best match: packaging 23.1\n",
            "Adding packaging 23.1 to easy-install.pth file\n",
            "\n",
            "Using /usr/local/lib/python3.10/dist-packages\n",
            "Searching for traitsui==8.0.0\n",
            "Best match: traitsui 8.0.0\n",
            "Processing traitsui-8.0.0-py3.10.egg\n",
            "traitsui 8.0.0 is already the active version in easy-install.pth\n",
            "\n",
            "Using /usr/local/lib/python3.10/dist-packages/traitsui-8.0.0-py3.10.egg\n",
            "Searching for traits==6.4.1\n",
            "Best match: traits 6.4.1\n",
            "Processing traits-6.4.1-py3.10-linux-x86_64.egg\n",
            "traits 6.4.1 is already the active version in easy-install.pth\n",
            "\n",
            "Using /usr/local/lib/python3.10/dist-packages/traits-6.4.1-py3.10-linux-x86_64.egg\n",
            "Searching for Pygments==2.14.0\n",
            "Best match: Pygments 2.14.0\n",
            "Adding Pygments 2.14.0 to easy-install.pth file\n",
            "Installing pygmentize script to /usr/local/bin\n",
            "\n",
            "Using /usr/local/lib/python3.10/dist-packages\n",
            "Searching for pyface==8.0.0\n",
            "Best match: pyface 8.0.0\n",
            "Processing pyface-8.0.0-py3.10.egg\n",
            "pyface 8.0.0 is already the active version in easy-install.pth\n",
            "\n",
            "Using /usr/local/lib/python3.10/dist-packages/pyface-8.0.0-py3.10.egg\n",
            "Searching for numpy==1.22.4\n",
            "Best match: numpy 1.22.4\n",
            "Adding numpy 1.22.4 to easy-install.pth file\n",
            "Installing f2py script to /usr/local/bin\n",
            "Installing f2py3 script to /usr/local/bin\n",
            "Installing f2py3.10 script to /usr/local/bin\n",
            "\n",
            "Using /usr/local/lib/python3.10/dist-packages\n",
            "Searching for envisage==7.0.3\n",
            "Best match: envisage 7.0.3\n",
            "Processing envisage-7.0.3-py3.10.egg\n",
            "envisage 7.0.3 is already the active version in easy-install.pth\n",
            "\n",
            "Using /usr/local/lib/python3.10/dist-packages/envisage-7.0.3-py3.10.egg\n",
            "Searching for apptools==5.2.0\n",
            "Best match: apptools 5.2.0\n",
            "Processing apptools-5.2.0-py3.10.egg\n",
            "apptools 5.2.0 is already the active version in easy-install.pth\n",
            "\n",
            "Using /usr/local/lib/python3.10/dist-packages/apptools-5.2.0-py3.10.egg\n",
            "Searching for Pillow==8.4.0\n",
            "Best match: Pillow 8.4.0\n",
            "Adding Pillow 8.4.0 to easy-install.pth file\n",
            "\n",
            "Using /usr/local/lib/python3.10/dist-packages\n",
            "Searching for matplotlib==3.7.1\n",
            "Best match: matplotlib 3.7.1\n",
            "Adding matplotlib 3.7.1 to easy-install.pth file\n",
            "\n",
            "Using /usr/local/lib/python3.10/dist-packages\n",
            "Searching for scipy==1.10.1\n",
            "Best match: scipy 1.10.1\n",
            "Adding scipy 1.10.1 to easy-install.pth file\n",
            "\n",
            "Using /usr/local/lib/python3.10/dist-packages\n",
            "Searching for setuptools==67.7.2\n",
            "Best match: setuptools 67.7.2\n",
            "Adding setuptools 67.7.2 to easy-install.pth file\n",
            "\n",
            "Using /usr/local/lib/python3.10/dist-packages\n",
            "Searching for configobj==5.0.8\n",
            "Best match: configobj 5.0.8\n",
            "Processing configobj-5.0.8-py3.10.egg\n",
            "configobj 5.0.8 is already the active version in easy-install.pth\n",
            "\n",
            "Using /usr/local/lib/python3.10/dist-packages/configobj-5.0.8-py3.10.egg\n",
            "Searching for python-dateutil==2.8.2\n",
            "Best match: python-dateutil 2.8.2\n",
            "Adding python-dateutil 2.8.2 to easy-install.pth file\n",
            "\n",
            "Using /usr/local/lib/python3.10/dist-packages\n",
            "Searching for pyparsing==3.0.9\n",
            "Best match: pyparsing 3.0.9\n",
            "Adding pyparsing 3.0.9 to easy-install.pth file\n",
            "\n",
            "Using /usr/local/lib/python3.10/dist-packages\n",
            "Searching for kiwisolver==1.4.4\n",
            "Best match: kiwisolver 1.4.4\n",
            "Adding kiwisolver 1.4.4 to easy-install.pth file\n",
            "\n",
            "Using /usr/local/lib/python3.10/dist-packages\n",
            "Searching for fonttools==4.39.3\n",
            "Best match: fonttools 4.39.3\n",
            "Adding fonttools 4.39.3 to easy-install.pth file\n",
            "Installing fonttools script to /usr/local/bin\n",
            "Installing pyftmerge script to /usr/local/bin\n",
            "Installing pyftsubset script to /usr/local/bin\n",
            "Installing ttx script to /usr/local/bin\n",
            "\n",
            "Using /usr/local/lib/python3.10/dist-packages\n",
            "Searching for cycler==0.11.0\n",
            "Best match: cycler 0.11.0\n",
            "Adding cycler 0.11.0 to easy-install.pth file\n",
            "\n",
            "Using /usr/local/lib/python3.10/dist-packages\n",
            "Searching for contourpy==1.0.7\n",
            "Best match: contourpy 1.0.7\n",
            "Adding contourpy 1.0.7 to easy-install.pth file\n",
            "\n",
            "Using /usr/local/lib/python3.10/dist-packages\n",
            "Searching for six==1.16.0\n",
            "Best match: six 1.16.0\n",
            "Adding six 1.16.0 to easy-install.pth file\n",
            "\n",
            "Using /usr/local/lib/python3.10/dist-packages\n",
            "Finished processing dependencies for menpo3d==0.8.0\n"
          ]
        }
      ],
      "source": [
        "!python setup.py build\n",
        "!python setup.py install"
      ]
    },
    {
      "cell_type": "markdown",
      "metadata": {
        "id": "WUIrz3NfoUr0"
      },
      "source": [
        "第四步 切换为代码路径"
      ]
    },
    {
      "cell_type": "code",
      "execution_count": null,
      "metadata": {
        "id": "lpBxlCCZv5yJ"
      },
      "outputs": [],
      "source": [
        "import os\n",
        "# 切换路径\n",
        "os.chdir('/content/drive/MyDrive/Colab Notebooks/GANFit')"
      ]
    },
    {
      "cell_type": "code",
      "execution_count": null,
      "metadata": {
        "colab": {
          "base_uri": "https://localhost:8080/"
        },
        "id": "wRS1LwALt4UW",
        "outputId": "3b245080-36e8-4ccb-ea6d-342e69bf307d"
      },
      "outputs": [
        {
          "name": "stdout",
          "output_type": "stream",
          "text": [
            "Python 3.10.12\n"
          ]
        }
      ],
      "source": [
        "!python --version"
      ]
    },
    {
      "cell_type": "markdown",
      "metadata": {
        "id": "bmJyocRnofy-"
      },
      "source": [
        "第五步 把数据集放到GANFit/data下，运行代码\n",
        "data是数据集文件夹 result就是结果文件夹"
      ]
    },
    {
      "cell_type": "code",
      "execution_count": null,
      "metadata": {
        "colab": {
          "background_save": true,
          "base_uri": "https://localhost:8080/"
        },
        "id": "0wwU1xNov9kY",
        "outputId": "c6fca393-18a6-4605-85d3-16beb84fd6eb"
      },
      "outputs": [
        {
          "name": "stdout",
          "output_type": "stream",
          "text": [
            "Processing: ./data/subject_24/Model/frontal1/obj/110603110328.obj\n",
            "/usr/local/lib/python3.10/dist-packages/menpo3d-0.8.0-py3.10-linux-x86_64.egg/menpo3d/io/input/base.py:41: UserWarning: More than one texture found for file, returning only the first.\n",
            "  warnings.warn('More than one texture found for file, returning '\n",
            "'LJSON' landmarks will be used as a landmark constraint.\n",
            "performing similarity alignment using landmarks\n",
            "using default stiffness_weights: [50, 20, 5, 2, 0.8, 0.5, 0.35, 0.2]\n",
            "using default landmark_weights: [5, 2, 0.5, 0, 0, 0, 0, 0]\n",
            "Not customising data_weights\n",
            "1/8: stiffness: 50  lm_weight: 5\n",
            "/usr/local/lib/python3.10/dist-packages/menpo3d-0.8.0-py3.10-linux-x86_64.egg/menpo3d/correspond/nicp.py:78: UserWarning: suitesparse is not installed - NICP will run considerably (~5-10x) slower. If possible install suitesparse.\n",
            "  warnings.warn(\"suitesparse is not installed - NICP will run \"\n",
            " - 1 stop crit: 0.498  total: 17%  norms: 17%  edges: 0%  lm_err: 0.0225\n",
            "/usr/local/lib/python3.10/dist-packages/menpo-0.10.0-py3.10.egg/menpo/shape/pointcloud.py:149: UserWarning: The copy flag was NOT honoured. A copy HAS been made. Please ensure the data you pass is C-contiguous.\n",
            "  warn('The copy flag was NOT honoured. A copy HAS been made. '\n",
            " - 2 stop crit: 0.007  total: 16%  norms: 16%  edges: 0%  lm_err: 0.0228\n",
            " - 3 stop crit: 0.002  total: 16%  norms: 16%  edges: 0%  lm_err: 0.0230\n",
            " - 4 stop crit: 0.001  total: 15%  norms: 15%  edges: 0%  lm_err: 0.0229\n",
            " - 5 stop crit: 0.001  total: 15%  norms: 15%  edges: 0%  lm_err: 0.0228\n",
            "2/8: stiffness: 20  lm_weight: 2\n",
            " - 1 stop crit: 0.001  total: 15%  norms: 15%  edges: 0%  lm_err: 0.0224\n",
            "3/8: stiffness: 5  lm_weight: 0.5\n",
            " - 1 stop crit: 0.002  total: 15%  norms: 15%  edges: 0%  lm_err: 0.0208\n",
            " - 2 stop crit: 0.002  total: 13%  norms: 13%  edges: 0%  lm_err: 0.0204\n",
            " - 3 stop crit: 0.001  total: 12%  norms: 12%  edges: 0%  lm_err: 0.0202\n",
            "4/8: stiffness: 2  lm_weight: 0\n",
            " - 1 stop crit: 0.001  total: 12%  norms: 12%  edges: 0%  lm_err: 0.0201\n",
            " - 2 stop crit: 0.001  total: 10%  norms: 10%  edges: 0%  lm_err: 0.0200\n",
            "5/8: stiffness: 0.8  lm_weight: 0\n",
            " - 1 stop crit: 0.001  total: 9%  norms: 9%  edges: 0%  lm_err: 0.0200\n",
            "6/8: stiffness: 0.5  lm_weight: 0\n",
            " - 1 stop crit: 0.001  total: 8%  norms: 8%  edges: 0%  lm_err: 0.0200\n",
            "7/8: stiffness: 0.35  lm_weight: 0\n",
            " - 1 stop crit: 0.001  total: 8%  norms: 8%  edges: 0%  lm_err: 0.0200\n",
            " - 2 stop crit: 0.001  total: 8%  norms: 8%  edges: 0%  lm_err: 0.0200\n",
            " - 3 stop crit: 0.000  total: 8%  norms: 8%  edges: 0%  lm_err: 0.0200\n",
            "8/8: stiffness: 0.2  lm_weight: 0\n",
            " - 1 stop crit: 0.000  total: 8%  norms: 8%  edges: 0%  lm_err: 0.0200\n",
            "Took :19.33 minutes\n",
            "Processing: ./data/subject_24/Model/frontal2/obj/110822152522.obj\n",
            "'LJSON' landmarks will be used as a landmark constraint.\n",
            "performing similarity alignment using landmarks\n",
            "using default stiffness_weights: [50, 20, 5, 2, 0.8, 0.5, 0.35, 0.2]\n",
            "using default landmark_weights: [5, 2, 0.5, 0, 0, 0, 0, 0]\n",
            "Not customising data_weights\n",
            "1/8: stiffness: 50  lm_weight: 5\n",
            " - 1 stop crit: 0.498  total: 21%  norms: 21%  edges: 0%  lm_err: 0.0283\n",
            " - 2 stop crit: 0.006  total: 20%  norms: 20%  edges: 0%  lm_err: 0.0284\n",
            " - 3 stop crit: 0.002  total: 19%  norms: 19%  edges: 0%  lm_err: 0.0285\n",
            " - 4 stop crit: 0.001  total: 18%  norms: 18%  edges: 0%  lm_err: 0.0285\n",
            " - 5 stop crit: 0.001  total: 17%  norms: 17%  edges: 0%  lm_err: 0.0285\n",
            "2/8: stiffness: 20  lm_weight: 2\n",
            " - 1 stop crit: 0.001  total: 16%  norms: 16%  edges: 0%  lm_err: 0.0282\n",
            " - 2 stop crit: 0.001  total: 15%  norms: 15%  edges: 0%  lm_err: 0.0278\n",
            "3/8: stiffness: 5  lm_weight: 0.5\n",
            " - 1 stop crit: 0.002  total: 14%  norms: 14%  edges: 0%  lm_err: 0.0264\n",
            " - 2 stop crit: 0.002  total: 12%  norms: 12%  edges: 0%  lm_err: 0.0259\n",
            " - 3 stop crit: 0.001  total: 11%  norms: 11%  edges: 0%  lm_err: 0.0257\n",
            "4/8: stiffness: 2  lm_weight: 0\n",
            " - 1 stop crit: 0.001  total: 11%  norms: 11%  edges: 0%  lm_err: 0.0255\n",
            "5/8: stiffness: 0.8  lm_weight: 0\n",
            " - 1 stop crit: 0.001  total: 9%  norms: 9%  edges: 0%  lm_err: 0.0255\n",
            "6/8: stiffness: 0.5  lm_weight: 0\n",
            " - 1 stop crit: 0.001  total: 8%  norms: 8%  edges: 0%  lm_err: 0.0254\n",
            "7/8: stiffness: 0.35  lm_weight: 0\n",
            " - 1 stop crit: 0.001  total: 8%  norms: 8%  edges: 0%  lm_err: 0.0254\n",
            "8/8: stiffness: 0.2  lm_weight: 0\n",
            " - 1 stop crit: 0.001  total: 8%  norms: 8%  edges: 0%  lm_err: 0.0254\n",
            "Took :17.09 minutes\n"
          ]
        }
      ],
      "source": [
        "!sudo python micc_registration.py ./data ./result"
      ]
    },
    {
      "cell_type": "code",
      "execution_count": null,
      "metadata": {
        "colab": {
          "base_uri": "https://localhost:8080/"
        },
        "id": "_p1ohBYm1kAy",
        "outputId": "62884520-7522-4375-eed7-107d34c0ac31"
      },
      "outputs": [
        {
          "name": "stdout",
          "output_type": "stream",
          "text": [
            "ID: 2\n",
            "Running ICP:..............Point-to-Plane Distance: 1.23\n",
            "Running ICP:..................Point-to-Plane Distance: 1.14\n",
            "ID: 2\n",
            "Running ICP:........Point-to-Plane Distance: 1.23\n",
            "Running ICP:.............Point-to-Plane Distance: 1.16\n",
            "ID: 2\n",
            "Running ICP:.............Point-to-Plane Distance: 1.19\n",
            "Running ICP:.................Point-to-Plane Distance: 1.10\n",
            "Traceback (most recent call last):\n",
            "  File \"/content/drive/MyDrive/Colab Notebooks/GANFit/micc_evaluation.py\", line 102, in <module>\n",
            "    mio.export_pickle(distances, os.path.join(args.reconstruction_path, 'distances.pkl'))\n",
            "  File \"/usr/local/lib/python3.10/dist-packages/menpo-0.10.0-py3.10.egg/menpo/io/output/base.py\", line 217, in export_pickle\n",
            "    path_filepath = _validate_filepath(fp, overwrite)\n",
            "  File \"/usr/local/lib/python3.10/dist-packages/menpo-0.10.0-py3.10.egg/menpo/io/output/base.py\", line 287, in _validate_filepath\n",
            "    raise OverwriteError('File {} already exists. Please set the overwrite '\n",
            "menpo.io.exceptions.OverwriteError: File distances.pkl already exists. Please set the overwrite kwarg if you wish to overwrite the file.\n"
          ]
        }
      ],
      "source": [
        "!sudo python micc_evaluation.py  ./result ./result2"
      ]
    },
    {
      "cell_type": "markdown",
      "metadata": {
        "id": "RNGhdU4GCcdZ"
      },
      "source": [
        "# 新段落"
      ]
    }
  ],
  "metadata": {
    "accelerator": "GPU",
    "colab": {
      "provenance": [],
      "mount_file_id": "1Nxn77BE8HrekRJGek3NpyeqNmjEpVzKa",
      "authorship_tag": "ABX9TyNnjOUFYnCbAsv54bfivjzC",
      "include_colab_link": true
    },
    "kernelspec": {
      "display_name": "Python 3",
      "name": "python3"
    },
    "language_info": {
      "name": "python"
    }
  },
  "nbformat": 4,
  "nbformat_minor": 0
}